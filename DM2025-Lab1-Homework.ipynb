{
 "cells": [
  {
   "cell_type": "markdown",
   "metadata": {},
   "source": [
    "### Student Information\n",
    "Name:Victor Lim Kai Xuan 林凱軒\n",
    "\n",
    "Student ID:613530019\n",
    "\n",
    "GitHub ID:victorlim98"
   ]
  },
  {
   "cell_type": "markdown",
   "metadata": {},
   "source": [
    "---"
   ]
  },
  {
   "cell_type": "markdown",
   "metadata": {},
   "source": [
    "### Instructions"
   ]
  },
  {
   "cell_type": "markdown",
   "metadata": {},
   "source": [
    "### First Phase Submission"
   ]
  },
  {
   "cell_type": "markdown",
   "metadata": {},
   "source": [
    "1. First: do the **take home** exercises in the [DM2025-Lab1-Master](https://github.com/leoson-wu/DM2025-Lab1-Exercise/blob/main/DM2025-Lab1-Master.ipynb) that considered as **phase 1 (from exercise 1 to exercise 15)**. You can answer in the master file. __This part is worth 10% of your grade.__\n",
    "\n",
    "\n",
    "2. Second: follow the same process from the [DM2025-Lab1-Master](https://github.com/leoson-wu/DM2025-Lab1-Exercise/blob/main/DM2025-Lab1-Master.ipynb) on **the new dataset** up **until phase 1**. You can skip some exercises if you think some steps are not necessary. However main exercises should be completed. You don't need to explain all details as we did (some **minimal comments** explaining your code are useful though).  __This part is worth 15% of your grade.__\n",
    "    -  Use [the new dataset](https://github.com/leoson-wu/DM2025-Lab1-Exercise/blob/main/newdataset/Reddit-stock-sentiment.csv). The dataset contains a 16 columns including 'text' and 'label', with the sentiment labels being: 1.0 is positive, 0.0 is neutral and -1.0 is negative. You can simplify the dataset and use only the columns that you think are necessary. \n",
    "    \n",
    "    - You are allowed to use and modify the `helper` functions in the folder of the first lab session (notice they may need modification) or create your own.\n",
    "    - Use this file to complete the homework from the second part. Make sure the code can be run from the beginning till the end and has all the needed output.\n",
    "\n",
    "\n",
    "3. Third: please attempt the following tasks on **the new dataset**. __This part is worth 10% of your grade.__\n",
    "    - Generate meaningful **new data visualizations**. Refer to online resources and the Data Mining textbook for inspiration and ideas. \n",
    "    \n",
    "\n",
    "\n",
    "4. Fourth: It's hard for us to follow if your code is messy, so please **tidy up your notebook** and **add minimal comments where needed**. __This part is worth 5% of your grade.__\n",
    "\n",
    "You can submit your homework following these guidelines: [DM2025-Lab1-announcement](https://github.com/leoson-wu/DM2025-Lab1-Announcement/blob/main/README.md). Make sure to commit and save your changes to your repository __BEFORE the deadline (September 28th 11:59 pm, Sunday)__. "
   ]
  },
  {
   "cell_type": "markdown",
   "metadata": {},
   "source": [
    "### Second Phase Submission "
   ]
  },
  {
   "cell_type": "markdown",
   "metadata": {},
   "source": [
    "**You can keep the answer for phase 1 for easier running and update the phase 2 on the same page.**\n",
    "\n",
    "1. First: Continue doing the **take home** exercises in the [DM2025-Lab1-Master](https://github.com/leoson-wu/DM2025-Lab1-Exercise/blob/main/DM2025-Lab1-Master.ipynb) for **phase 2, starting from Finding frequent patterns**. Use the same master(.ipynb) file. Answer from phase 1 will not be considered at this stage. You can answer in the master file. __This part is worth 10% of your grade.__\n",
    "\n",
    "\n",
    "2. Second: Continue from first phase and do the same process from the [DM2025-Lab1-Master](https://github.com/leoson-wu/DM2025-Lab1-Exercise/blob/main/DM2025-Lab1-Master.ipynb) on **the new dataset** for phase 2, starting from Finding frequent pattern. You can skip some exercises if you think some steps are not necessary. However main exercises should be completed. You don't need to explain all details as we did (some **minimal comments** explaining your code are useful though).  __This part is worth 15% of your grade.__\n",
    "    - Continue using this file to complete the homework from the second part. Make sure the code can be run from the beginning till the end and has all the needed output. Use the same new dataset as in phase 1.\n",
    "    \n",
    "    - You are allowed to use and modify the `helper` functions in the folder of the first lab session (notice they may need modification) or create your own.\n",
    "\n",
    "3. Third: please attempt the following tasks on **the new dataset**. __This part is worth 20% of your grade.__\n",
    "    - Use this file to answer.\n",
    "    - Generate **TF-IDF features** from the tokens of each text. This will generating a document matrix, however, the weights will be computed differently (using the TF-IDF value of each word per document as opposed to the word frequency).  Refer to this Scikit-learn [guide](http://scikit-learn.org/stable/modules/generated/sklearn.feature_extraction.text.TfidfVectorizer.html) .\n",
    "    - Implement a simple **Naive Bayes classifier** that automatically classifies the records into their categories. Use both the TF-IDF features and word frequency features to build two seperate classifiers. Note that for the TF-IDF features you might need to use other type of NB classifier different than the one in the Master Notebook. Comment on the differences and when using augmentation with feature pattern.  Refer to this [article](https://hub.packtpub.com/implementing-3-naive-bayes-classifiers-in-scikit-learn/).\n",
    "\n",
    "\n",
    "4. Fourth: In the lab, we applied each step really quickly just to illustrate how to work with your dataset. There are somethings that are not ideal or the most efficient/meaningful. Each dataset can be handled differently as well. What are those inefficent parts you noticed? How can you improve the Data preprocessing for these specific datasets? __This part is worth 10% of your grade.__\n",
    "\n",
    "\n",
    "5. Fifth: It's hard for us to follow if your code is messy, so please **tidy up your notebook** and **add minimal comments where needed**. __This part is worth 5% of your grade.__\n",
    "\n",
    "\n",
    "You can submit your homework following these guidelines: [DM2025-Lab1-announcement](https://github.com/leoson-wu/DM2025-Lab1-Announcement/blob/main/README.md). Make sure to commit and save your changes to your repository __BEFORE the deadline (October 19th 11:59 pm, Sunday)__. "
   ]
  },
  {
   "cell_type": "markdown",
   "metadata": {},
   "source": [
    "# Phase 1"
   ]
  },
  {
   "cell_type": "markdown",
   "metadata": {},
   "source": [
    "# 1. Data Preprocessing\n",
    "In this state, we will install all the essential libraries and packages necessary for this lab session. "
   ]
  },
  {
   "cell_type": "code",
   "execution_count": null,
   "metadata": {},
   "outputs": [
    {
     "name": "stderr",
     "output_type": "stream",
     "text": [
      "[nltk_data] Downloading package punkt to\n",
      "[nltk_data]     /Users/victorylim98/nltk_data...\n",
      "[nltk_data]   Package punkt is already up-to-date!\n"
     ]
    }
   ],
   "source": [
    "# test code for environment setup\n",
    "import pandas as pd\n",
    "import numpy as np\n",
    "import nltk\n",
    "nltk.download('punkt') # download the NLTK datasets\n",
    "from sklearn.feature_extraction.text import CountVectorizer\n",
    "import plotly as py\n",
    "import math\n",
    "import re\n",
    "from datetime import datetime\n",
    "# If you get \"ModuleNotFoundError: No module named 'PAMI'\"\n",
    "# run the following in a new Jupyter cell:\n",
    "# !pip3 install PAMI\n",
    "import PAMI\n",
    "import umap"
   ]
  },
  {
   "cell_type": "markdown",
   "metadata": {},
   "source": [
    "## 1.1 Data Source\n",
    "We will input a dataset called Reddit-stock-sentiment.csv.\n",
    "This dataset contains stock sentiment data from Reddit posts related to various stocks.\n",
    "The dataset contains a 16 columns including 'text' and 'label', with the sentiment labels being: 1.0 is positive, 0.0 is neutral and -1.0 is negative. "
   ]
  },
  {
   "cell_type": "code",
   "execution_count": null,
   "metadata": {},
   "outputs": [
    {
     "name": "stdout",
     "output_type": "stream",
     "text": [
      "      type             datetime  post_id       subreddit  \\\n",
      "0  comment  2025-04-11 17:29:56  mmli62w  wallstreetbets   \n",
      "\n",
      "                                             title        author  \\\n",
      "0  Retardation is on the menu boys! WSB is so back  StickyTip420   \n",
      "\n",
      "                                    url  upvotes  downvotes  upvote_ratio  \\\n",
      "0  https://i.redd.it/0yq2ftren8ue1.jpeg        0        NaN           NaN   \n",
      "\n",
      "               text  subjectivity  polarity  sentiment entities  label  \n",
      "0  Calls on retards           1.0      -0.9       -1.0       []   -1.0  \n",
      "The autoreload extension is already loaded. To reload it, use:\n",
      "  %reload_ext autoreload\n",
      "/Users/victorylim98/Documents/Docs/Handouts/Data Mining/Lab1/DM2025-Lab1-Exercise/.venv/bin/python\n",
      "3.11.0 (main, Sep 25 2025, 11:29:05) [Clang 17.0.0 (clang-1700.3.19.1)]\n"
     ]
    }
   ],
   "source": [
    "df = pd.read_csv('/Users/victorylim98/Documents/Docs/Handouts/Data Mining/Lab1/DM2025-Lab1-Exercise/newdataset/Reddit-stock-sentiment.csv')\n",
    "print(df.head(1)) #check whether the dataset imported successfully.\n",
    "\n",
    "%load_ext autoreload\n",
    "%autoreload 2\n",
    "\n",
    "#Check condition\n",
    "import sys\n",
    "print(sys.executable) # c:\\<your path to the project directory>\\.venv\\Scripts\\python.exe\n",
    "print(sys.version) #3.11.0\n"
   ]
  },
  {
   "cell_type": "markdown",
   "metadata": {},
   "source": [
    "# 2. Data Process\n",
    "In order to make the data ready for analysis, we need to preprocess the data. \n",
    "From the dataset, we will keep only a few categories that we need for analysis, such as 'text', 'datetime', 'subreddit', 'title', 'text', 'subjectivity', 'polarity', 'upvotes', 'label'."
   ]
  },
  {
   "cell_type": "code",
   "execution_count": null,
   "metadata": {},
   "outputs": [],
   "source": [
    "# Keep only useful columns\n",
    "df = df[['datetime', 'subreddit', 'title', 'text', 'subjectivity', 'polarity', 'upvotes', 'label']]"
   ]
  },
  {
   "cell_type": "markdown",
   "metadata": {},
   "source": [
    "Noted that we have a column that involve datetime. We need to convert it to proper format."
   ]
  },
  {
   "cell_type": "code",
   "execution_count": null,
   "metadata": {},
   "outputs": [],
   "source": [
    "# Convert datetime to proper format\n",
    "df['datetime'] = pd.to_datetime(df['datetime'], errors='coerce')"
   ]
  },
  {
   "cell_type": "markdown",
   "metadata": {},
   "source": [
    "In order to make the data ready for analysis, we need to drop rows with missing text.\n"
   ]
  },
  {
   "cell_type": "code",
   "execution_count": null,
   "metadata": {},
   "outputs": [],
   "source": [
    "df.dropna(subset=['text'], inplace=True)"
   ]
  },
  {
   "cell_type": "markdown",
   "metadata": {},
   "source": [
    "# 3. DATA TRANSFORMATION\n",
    "\n",
    "The data we are using is already a DataFrame. We do not need to perform any transformation on it.But we need to familiarize with the data.\n"
   ]
  },
  {
   "cell_type": "code",
   "execution_count": null,
   "metadata": {},
   "outputs": [
    {
     "name": "stdout",
     "output_type": "stream",
     "text": [
      "\n",
      "📊 Sentiment label counts:\n",
      "label\n",
      " 0.0    401\n",
      "-1.0    315\n",
      " 1.0    108\n",
      "Name: count, dtype: int64\n",
      "\n",
      "🧾 Summary Statistics:\n",
      "                            datetime  subjectivity    polarity      upvotes  \\\n",
      "count                            824    824.000000  824.000000   824.000000   \n",
      "mean   2024-09-05 10:27:39.720873728      0.353902    0.037746     7.791262   \n",
      "min              2021-01-28 17:58:52      0.000000   -1.000000   -74.000000   \n",
      "25%    2025-04-08 02:05:21.249999872      0.000000    0.000000     1.000000   \n",
      "50%       2025-04-11 10:55:40.500000      0.374802    0.000000     1.000000   \n",
      "75%              2025-04-11 15:32:52      0.590833    0.160000     4.000000   \n",
      "max              2025-04-12 03:23:21      1.000000    1.000000  1105.000000   \n",
      "std                              NaN      0.317379    0.300796    44.355409   \n",
      "\n",
      "            label  \n",
      "count  824.000000  \n",
      "mean    -0.251214  \n",
      "min     -1.000000  \n",
      "25%     -1.000000  \n",
      "50%      0.000000  \n",
      "75%      0.000000  \n",
      "max      1.000000  \n",
      "std      0.671408  \n"
     ]
    }
   ],
   "source": [
    "# 3.1 Familiarize with Data\n",
    "print(\"\\n📊 Sentiment label counts:\")\n",
    "print(df['label'].value_counts())\n",
    "\n",
    "print(\"\\n🧾 Summary Statistics:\")\n",
    "print(df.describe())"
   ]
  },
  {
   "cell_type": "markdown",
   "metadata": {},
   "source": [
    "# 4. DATA MINING USING PANDAS\n",
    "The text introduces missing values into a dataset for practice, showing how Pandas simplifies handling them. It reviews Data Mining methods for missing values, often from incomplete collection, which affect analysis."
   ]
  },
  {
   "cell_type": "code",
   "execution_count": null,
   "metadata": {},
   "outputs": [
    {
     "name": "stdout",
     "output_type": "stream",
     "text": [
      "\n",
      "🔍 Missing Values per Column:\n",
      "datetime        0\n",
      "subreddit       0\n",
      "title           0\n",
      "text            0\n",
      "subjectivity    0\n",
      "polarity        0\n",
      "upvotes         0\n",
      "label           0\n",
      "dtype: int64\n"
     ]
    }
   ],
   "source": [
    "# 4.1 Missing Values\n",
    "print(\"\\n🔍 Missing Values per Column:\")\n",
    "print(df.isnull().sum())\n"
   ]
  },
  {
   "cell_type": "markdown",
   "metadata": {},
   "source": [
    "Good, now we knew there are no missing values found. But we still need to make it clean by fill in missing value and dealing with duplicates."
   ]
  },
  {
   "cell_type": "code",
   "execution_count": null,
   "metadata": {},
   "outputs": [
    {
     "name": "stdout",
     "output_type": "stream",
     "text": [
      "\n",
      "✅ After Removing Duplicates: (824, 8)\n"
     ]
    },
    {
     "name": "stderr",
     "output_type": "stream",
     "text": [
      "/var/folders/59/dj_x36mj0831h5fs1t3mlp7h0000gn/T/ipykernel_9724/874865259.py:2: FutureWarning: A value is trying to be set on a copy of a DataFrame or Series through chained assignment using an inplace method.\n",
      "The behavior will change in pandas 3.0. This inplace method will never work because the intermediate object on which we are setting values always behaves as a copy.\n",
      "\n",
      "For example, when doing 'df[col].method(value, inplace=True)', try using 'df.method({col: value}, inplace=True)' or df[col] = df[col].method(value) instead, to perform the operation inplace on the original object.\n",
      "\n",
      "\n",
      "  df['upvotes'].fillna(0, inplace=True)\n"
     ]
    }
   ],
   "source": [
    "# Fill missing numeric values with 0\n",
    "df['upvotes'].fillna(0, inplace=True)\n",
    "\n",
    "# Dealing with Duplicates\n",
    "df.drop_duplicates(subset=['text'], inplace=True)\n",
    "print(\"\\n✅ After Removing Duplicates:\", df.shape)"
   ]
  },
  {
   "cell_type": "markdown",
   "metadata": {},
   "source": [
    "# 5. DATA PREPROCESSING"
   ]
  },
  {
   "cell_type": "markdown",
   "metadata": {},
   "source": [
    "In this phase, we need to make sure that the dataset is ready for analysis and modeling.\n",
    "The goal is to clean, enhance, and structure the data so it becomes more meaningful and ready for machine learning or sentiment analysis."
   ]
  },
  {
   "cell_type": "markdown",
   "metadata": {},
   "source": [
    "### 5.1 Sampling – balancing the dataset across sentiment categories to avoid bias."
   ]
  },
  {
   "cell_type": "code",
   "execution_count": null,
   "metadata": {},
   "outputs": [],
   "source": [
    "min_count = df['label'].value_counts().min()\n",
    "balanced_df = df.groupby('label').sample(min_count, random_state=42)"
   ]
  },
  {
   "cell_type": "markdown",
   "metadata": {},
   "source": [
    "### 5.2 Feature Creation – generating new variables like text length or posting hour to find out more insight.\n"
   ]
  },
  {
   "cell_type": "code",
   "execution_count": null,
   "metadata": {},
   "outputs": [],
   "source": [
    "df['text_length'] = df['text'].apply(lambda x: len(x.split()))\n",
    "df['hour'] = df['datetime'].dt.hour"
   ]
  },
  {
   "cell_type": "markdown",
   "metadata": {},
   "source": [
    "### 5.3 Feature Subset Selection – keeping only relevant attributes that contribute to understanding sentiment.\n"
   ]
  },
  {
   "cell_type": "code",
   "execution_count": null,
   "metadata": {},
   "outputs": [],
   "source": [
    "features = ['subreddit', 'subjectivity', 'polarity', 'upvotes', 'text_length', 'label']"
   ]
  },
  {
   "cell_type": "markdown",
   "metadata": {},
   "source": [
    "### 5.4 Attribute Transformation – cleaning and standardizing text data such as removing punctuation or converting to lowercase for more consistent analysis. It will make the analysis more reliable.\n"
   ]
  },
  {
   "cell_type": "code",
   "execution_count": null,
   "metadata": {},
   "outputs": [
    {
     "data": {
      "image/png": "[encoded data removed]",
      "text/plain": [
       "<Figure size 800x500 with 1 Axes>"
      ]
     },
     "metadata": {},
     "output_type": "display_data"
    }
   ],
   "source": [
    "counts_sample = X_sample['category_name'].value_counts().sort_index()\n",
    "counts_full = X['category_name'].value_counts().sort_index()\n",
    "\n",
    "# Combine into a single DataFrame for comparison\n",
    "comparison_df = pd.DataFrame({\n",
    "    'X_sample': counts_sample,\n",
    "    'X': counts_full\n",
    "}).fillna(0)\n",
    "\n",
    "ax = comparison_df.plot(\n",
    "    kind='bar',\n",
    "    width=0.75,\n",
    "    ylim = [0, X.category_name.value_counts().max()+100],\n",
    "    rot = 0, fontsize = 12, figsize = (8, 5))\n"
   ]
  },
  {
   "cell_type": "code",
   "execution_count": null,
   "metadata": {},
   "outputs": [
    {
     "data": {
      "image/png": "[encoded data removed]",
      "text/plain": [
       "<Figure size 800x500 with 1 Axes>"
      ]
     },
     "metadata": {},
     "output_type": "display_data"
    }
   ],
   "source": [
    "counts_sample = X_sample['category_name'].value_counts().sort_index()\n",
    "counts_full = X['category_name'].value_counts().sort_index()\n",
    "\n",
    "# Combine into a single DataFrame for comparison\n",
    "comparison_df = pd.DataFrame({\n",
    "    'X_sample': counts_sample,\n",
    "    'X': counts_full\n",
    "}).fillna(0)\n",
    "\n",
    "ax = comparison_df.plot(\n",
    "    kind='bar',\n",
    "    width=0.75,\n",
    "    ylim = [0, X.category_name.value_counts().max()+100],\n",
    "    rot = 0, fontsize = 12, figsize = (8, 5))\n"
   ]
  },
  {
   "cell_type": "code",
   "execution_count": null,
   "metadata": {},
   "outputs": [
    {
     "data": {
      "image/png": "[encoded data removed]",
      "text/plain": [
       "<Figure size 800x500 with 1 Axes>"
      ]
     },
     "metadata": {},
     "output_type": "display_data"
    }
   ],
   "source": [
    "counts_sample = X_sample['category_name'].value_counts().sort_index()\n",
    "counts_full = X['category_name'].value_counts().sort_index()\n",
    "\n",
    "# Combine into a single DataFrame for comparison\n",
    "comparison_df = pd.DataFrame({\n",
    "    'X_sample': counts_sample,\n",
    "    'X': counts_full\n",
    "}).fillna(0)\n",
    "\n",
    "ax = comparison_df.plot(\n",
    "    kind='bar',\n",
    "    width=0.75,\n",
    "    ylim = [0, X.category_name.value_counts().max()+100],\n",
    "    rot = 0, fontsize = 12, figsize = (8, 5))\n"
   ]
  },
  {
   "cell_type": "code",
   "execution_count": null,
   "metadata": {},
   "outputs": [],
   "source": [
    "def clean_text(text):\n",
    "    text = text.lower()\n",
    "    text = re.sub(r'http\\S+|www.\\S+', '', text)\n",
    "    text = re.sub(r'[^a-zA-Z\\s]', '', text)\n",
    "    text = re.sub(r'\\s+', ' ', text).strip()\n",
    "    return text\n",
    "\n",
    "df['clean_text'] = df['text'].apply(clean_text)"
   ]
  },
  {
   "cell_type": "markdown",
   "metadata": {},
   "source": [
    "# 6. VISUALIZATIONS"
   ]
  },
  {
   "cell_type": "markdown",
   "metadata": {},
   "source": [
    "The first graph is a histogram that shows the distribution of sentiments in the dataset. \n",
    "\n",
    "This graph is used to find out:\n",
    "Which sentiment is most common on Reddit about stocks?\n",
    "Are users generally positive or skeptical?\n"
   ]
  },
  {
   "cell_type": "code",
   "execution_count": null,
   "metadata": {},
   "outputs": [
    {
     "data": {
      "application/vnd.plotly.v1+json": {
       "config": {
        "plotlyServerURL": "https://plot.ly"
       },
       "data": [
        {
         "bingroup": "x",
         "hovertemplate": "label=%{x}<br>count=%{y}<extra></extra>",
         "legendgroup": "-1.0",
         "marker": {
          "color": "red",
          "pattern": {
           "shape": ""
          }
         },
         "name": "-1.0",
         "orientation": "v",
         "showlegend": true,
         "type": "histogram",
         "x": {
          "bdata": "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",
          "dtype": "f8"
         },
         "xaxis": "x",
         "yaxis": "y"
        },
        {
         "bingroup": "x",
         "hovertemplate": "label=%{x}<br>count=%{y}<extra></extra>",
         "legendgroup": "0.0",
         "marker": {
          "color": "gray",
          "pattern": {
           "shape": ""
          }
         },
         "name": "0.0",
         "orientation": "v",
         "showlegend": true,
         "type": "histogram",
         "x": {
          "bdata": "AAAAAAAAAAAAAAAAAAAAAAAAAAAAAAAAAAAAAAAAAAAAAAAAAAAAAAAAAAAAAAAAAAAAAAAAAAAAAAAAAAAAAAAAAAAAAAAAAAAAAAAAAAAAAAAAAAAAAAAAAAAAAAAAAAAAAAAAAAAAAAAAAAAAAAAAAAAAAAAAAAAAAAAAAAAAAAAAAAAAAAAAAAAAAAAAAAAAAAAAAAAAAAAAAAAAAAAAAAAAAAAAAAAAAAAAAAAAAAAAAAAAAAAAAAAAAAAAAAAAAAAAAAAAAAAAAAAAAAAAAAAAAAAAAAAAAAAAAAAAAAAAAAAAAAAAAAAAAAAAAAAAAAAAAAAAAAAAAAAAAAAAAAAAAAAAAAAAAAAAAAAAAAAAAAAAAAAAAAAAAAAAAAAAAAAAAAAAAAAAAAAAAAAAAAAAAAAAAAAAAAAAAAAAAAAAAAAAAAAAAAAAAAAAAAAAAAAAAAAAAAAAAAAAAAAAAAAAAAAAAAAAAAAAAAAAAAAAAAAAAAAAAAAAAAAAAAAAAAAAAAAAAAAAAAAAAAAAAAAAAAAAAAAAAAAAAAAAAAAAAAAAAAAAAAAAAAAAAAAAAAAAAAAAAAAAAAAAAAAAAAAAAAAAAAAAAAAAAAAAAAAAAAAAAAAAAAAAAAAAAAAAAAAAAAAAAAAAAAAAAAAAAAAAAAAAAAAAAAAAAAAAAAAAAAAAAAAAAAAAAAAAAAAAAAAAAAAAAAAAAAAAAAAAAAAAAAAAAAAAAAAAAAAAAAAAAAAAAAAAAAAAAAAAAAAAAAAAAAAAAAAAAAAAAAAAAAAAAAAAAAAAAAAAAAAAAAAAAAAAAAAAAAAAAAAAAAAAAAAAAAAAAAAAAAAAAAAAAAAAAAAAAAAAAAAAAAAAAAAAAAAAAAAAAAAAAAAAAAAAAAAAAAAAAAAAAAAAAAAAAAAAAAAAAAAAAAAAAAAAAAAAAAAAAAAAAAAAAAAAAAAAAAAAAAAAAAAAAAAAAAAAAAAAAAAAAAAAAAAAAAAAAAAAAAAAAAAAAAAAAAAAAAAAAAAAAAAAAAAAAAAAAAAAAAAAAAAAAAAAAAAAAAAAAAAAAAAAAAAAAAAAAAAAAAAAAAAAAAAAAAAAAAAAAAAAAAAAAAAAAAAAAAAAAAAAAAAAAAAAAAAAAAAAAAAAAAAAAAAAAAAAAAAAAAAAAAAAAAAAAAAAAAAAAAAAAAAAAAAAAAAAAAAAAAAAAAAAAAAAAAAAAAAAAAAAAAAAAAAAAAAAAAAAAAAAAAAAAAAAAAAAAAAAAAAAAAAAAAAAAAAAAAAAAAAAAAAAAAAAAAAAAAAAAAAAAAAAAAAAAAAAAAAAAAAAAAAAAAAAAAAAAAAAAAAAAAAAAAAAAAAAAAAAAAAAAAAAAAAAAAAAAAAAAAAAAAAAAAAAAAAAAAAAAAAAAAAAAAAAAAAAAAAAAAAAAAAAAAAAAAAAAAAAAAAAAAAAAAAAAAAAAAAAAAAAAAAAAAAAAAAAAAAAAAAAAAAAAAAAAAAAAAAAAAAAAAAAAAAAAAAAAAAAAAAAAAAAAAAAAAAAAAAAAAAAAAAAAAAAAAAAAAAAAAAAAAAAAAAAAAAAAAAAAAAAAAAAAAAAAAAAAAAAAAAAAAAAAAAAAAAAAAAAAAAAAAAAAAAAAAAAAAAAAAAAAAAAAAAAAAAAAAAAAAAAAAAAAAAAAAAAAAAAAAAAAAAAAAAAAAAAAAAAAAAAAAAAAAAAAAAAAAAAAAAAAAAAAAAAAAAAAAAAAAAAAAAAAAAAAAAAAAAAAAAAAAAAAAAAAAAAAAAAAAAAAAAAAAAAAAAAAAAAAAAAAAAAAAAAAAAAAAAAAAAAAAAAAAAAAAAAAAAAAAAAAAAAAAAAAAAAAAAAAAAAAAAAAAAAAAAAAAAAAAAAAAAAAAAAAAAAAAAAAAAAAAAAAAAAAAAAAAAAAAAAAAAAAAAAAAAAAAAAAAAAAAAAAAAAAAAAAAAAAAAAAAAAAAAAAAAAAAAAAAAAAAAAAAAAAAAAAAAAAAAAAAAAAAAAAAAAAAAAAAAAAAAAAAAAAAAAAAAAAAAAAAAAAAAAAAAAAAAAAAAAAAAAAAAAAAAAAAAAAAAAAAAAAAAAAAAAAAAAAAAAAAAAAAAAAAAAAAAAAAAAAAAAAAAAAAAAAAAAAAAAAAAAAAAAAAAAAAAAAAAAAAAAAAAAAAAAAAAAAAAAAAAAAAAAAAAAAAAAAAAAAAAAAAAAAAAAAAAAAAAAAAAAAAAAAAAAAAAAAAAAAAAAAAAAAAAAAAAAAAAAAAAAAAAAAAAAAAAAAAAAAAAAAAAAAAAAAAAAAAAAAAAAAAAAAAAAAAAAAAAAAAAAAAAAAAAAAAAAAAAAAAAAAAAAAAAAAAAAAAAAAAAAAAAAAAAAAAAAAAAAAAAAAAAAAAAAAAAAAAAAAAAAAAAAAAAAAAAAAAAAAAAAAAAAAAAAAAAAAAAAAAAAAAAAAAAAAAAAAAAAAAAAAAAAAAAAAAAAAAAAAAAAAAAAAAAAAAAAAAAAAAAAAAAAAAAAAAAAAAAAAAAAAAAAAAAAAAAAAAAAAAAAAAAAAAAAAAAAAAAAAAAAAAAAAAAAAAAAAAAAAAAAAAAAAAAAAAAAAAAAAAAAAAAAAAAAAAAAAAAAAAAAAAAAAAAAAAAAAAAAAAAAAAAAAAAAAAAAAAAAAAAAAAAAAAAAAAAAAAAAAAAAAAAAAAAAAAAAAAAAAAAAAAAAAAAAAAAAAAAAAAAAAAAAAAAAAAAAAAAAAAAAAAAAAAAAAAAAAAAAAAAAAAAAAAAAAAAAAAAAAAAAAAAAAAAAAAAAAAAAAAAAAAAAAAAAAAAAAAAAAAAAAAAAAAAAAAAAAAAAAAAAAAAAAAAAAAAAAAAAAAAAAAAAAAAAAAAAAAAAAAAAAAAAAAAAAAAAAAAAAAAAAAAAAAAAAAAAAAAAAAAAAAAAAAAAAAAAAAAAAAAAAAAAAAAAAAAAAAAAAAAAAAAAAAAAAAAAAAAAAAAAAAAAAAAAAAAAAAAAAAAAAAAAAAAAAAAAAAAAAAAAAAAAAAAAAAAAAAAAAAAAAAAAAAAAAAAAAAAAAAAAAAAAAAAAAAAAAAAAAAAAAAAAAAAAAAAAAAAAAAAAAAAAAAAAAAAAAAAAAAAAAAAAAAAAAAAAAAAAAAAAAAAAAAAAAAAAAAAAAAAAAAAAAAAAAAAAAAAAAAAAAAAAAAAAAAAAAAAAAAAAAAAAAAAAAAAAAAAAAAAAAAAAAAAAAAAAAAAAAAAAAAAAAAAAAAAAAAAAAAAAAAAAAAAAAAAAAAAAAAAAAAAAAAAAAAAAAAAAAAAAAAAAAAAAAAAAAAAAAAAAAAAAAAAAAAAAAAAAAAAAAAAAAAAAAAAAAAAAAAAAAAAAAAAAAAAAAAAAAAAAAAAAAAAAAAAAAAAAAAAAAAAAAAAAAAAAAAAAAAAAAAAAAAAAAAAAAAAAAAAAAAAAAAAAAAAAAAAAAAAAAAAAAAAAAAAAAAAAAAAAAAAAAAAAAAAAAAAAAAAAAAAAAAAAAAAAAAAAAAAAAAAAAAAAAAAAAAAAAAAAAAAAAAAAAAAAAAAAAAAAAAAAAAAAAAAAAAAAAAAAAAAAAAAAAAAAAAAAAAAAAAAAAAAAAAAAAAAAAAAAAAAAAAAAAAAAAAAAAAAAAAAAAAAAAAAAAAAAAAAAAAAAAAAAAAAAAAAAAAAAAAAAAAAAAAAAAAAAAAAAAAAAAAAAAAAAAAAAAAAAAAAAAAAAAAAAAAAAAAAAAAAAAAAAAAAAAAAAAAAAAAAAAAAAAAAAAAAAAAAAAAAAAAAAAAAAAAAAAAAAAAAAAAAAAAAAAAAAAAAAAAAAAAAAAAAAAAAAAAAAAAAAAAAAAAAAAAAAAAAAAAAAAAAAAAAAAAAAAAAAAAAAAAAAAAAAAAAAAAAAAAAAAAAAAAAAAAAAAAAAAAAAAAAAAAAAAAAAAAAAAAAAAAAAAAAAAAAAAAAAAAAAAAAAAAAAAAAAAAAAAAAAAAAAAAAAAAAAAAAAAAAAAAAAAAAAAAAAAAAAAAAAAAAAAAAAAAAAAAAAAAAAAAAAAAAAAAAAAAAAAAAAAAAAAAAAAAAAAAAAAAAAAAAAAAAAAAAAAAAAAAAAAAAAAAAAAAAAAAAAAAAAAAAAAAAAAAAAAAAAAAAAAAAAAAAAAAAAAAAAAAAAAAAAAAAAAAAAAAAAAAAAAAAAAAAAAAAAAAAAAAAAAAAAAAAAAAAAAAAAAAAAAAAAAAAAAAAAAAAAAAAAAAAAAAAAAAAAAAAAAA==",
          "dtype": "f8"
         },
         "xaxis": "x",
         "yaxis": "y"
        },
        {
         "bingroup": "x",
         "hovertemplate": "label=%{x}<br>count=%{y}<extra></extra>",
         "legendgroup": "1.0",
         "marker": {
          "color": "green",
          "pattern": {
           "shape": ""
          }
         },
         "name": "1.0",
         "orientation": "v",
         "showlegend": true,
         "type": "histogram",
         "x": {
          "bdata": "AAAAAAAA8D8AAAAAAADwPwAAAAAAAPA/AAAAAAAA8D8AAAAAAADwPwAAAAAAAPA/AAAAAAAA8D8AAAAAAADwPwAAAAAAAPA/AAAAAAAA8D8AAAAAAADwPwAAAAAAAPA/AAAAAAAA8D8AAAAAAADwPwAAAAAAAPA/AAAAAAAA8D8AAAAAAADwPwAAAAAAAPA/AAAAAAAA8D8AAAAAAADwPwAAAAAAAPA/AAAAAAAA8D8AAAAAAADwPwAAAAAAAPA/AAAAAAAA8D8AAAAAAADwPwAAAAAAAPA/AAAAAAAA8D8AAAAAAADwPwAAAAAAAPA/AAAAAAAA8D8AAAAAAADwPwAAAAAAAPA/AAAAAAAA8D8AAAAAAADwPwAAAAAAAPA/AAAAAAAA8D8AAAAAAADwPwAAAAAAAPA/AAAAAAAA8D8AAAAAAADwPwAAAAAAAPA/AAAAAAAA8D8AAAAAAADwPwAAAAAAAPA/AAAAAAAA8D8AAAAAAADwPwAAAAAAAPA/AAAAAAAA8D8AAAAAAADwPwAAAAAAAPA/AAAAAAAA8D8AAAAAAADwPwAAAAAAAPA/AAAAAAAA8D8AAAAAAADwPwAAAAAAAPA/AAAAAAAA8D8AAAAAAADwPwAAAAAAAPA/AAAAAAAA8D8AAAAAAADwPwAAAAAAAPA/AAAAAAAA8D8AAAAAAADwPwAAAAAAAPA/AAAAAAAA8D8AAAAAAADwPwAAAAAAAPA/AAAAAAAA8D8AAAAAAADwPwAAAAAAAPA/AAAAAAAA8D8AAAAAAADwPwAAAAAAAPA/AAAAAAAA8D8AAAAAAADwPwAAAAAAAPA/AAAAAAAA8D8AAAAAAADwPwAAAAAAAPA/AAAAAAAA8D8AAAAAAADwPwAAAAAAAPA/AAAAAAAA8D8AAAAAAADwPwAAAAAAAPA/AAAAAAAA8D8AAAAAAADwPwAAAAAAAPA/AAAAAAAA8D8AAAAAAADwPwAAAAAAAPA/AAAAAAAA8D8AAAAAAADwPwAAAAAAAPA/AAAAAAAA8D8AAAAAAADwPwAAAAAAAPA/AAAAAAAA8D8AAAAAAADwPwAAAAAAAPA/AAAAAAAA8D8AAAAAAADwPwAAAAAAAPA/AAAAAAAA8D8AAAAAAADwPwAAAAAAAPA/",
          "dtype": "f8"
         },
         "xaxis": "x",
         "yaxis": "y"
        }
       ],
       "layout": {
        "barmode": "relative",
        "legend": {
         "title": {
          "text": "label"
         },
         "tracegroupgap": 0
        },
        "template": {
         "data": {
          "bar": [
           {
            "error_x": {
             "color": "#2a3f5f"
            },
            "error_y": {
             "color": "#2a3f5f"
            },
            "marker": {
             "line": {
              "color": "#E5ECF6",
              "width": 0.5
             },
             "pattern": {
              "fillmode": "overlay",
              "size": 10,
              "solidity": 0.2
             }
            },
            "type": "bar"
           }
          ],
          "barpolar": [
           {
            "marker": {
             "line": {
              "color": "#E5ECF6",
              "width": 0.5
             },
             "pattern": {
              "fillmode": "overlay",
              "size": 10,
              "solidity": 0.2
             }
            },
            "type": "barpolar"
           }
          ],
          "carpet": [
           {
            "aaxis": {
             "endlinecolor": "#2a3f5f",
             "gridcolor": "white",
             "linecolor": "white",
             "minorgridcolor": "white",
             "startlinecolor": "#2a3f5f"
            },
            "baxis": {
             "endlinecolor": "#2a3f5f",
             "gridcolor": "white",
             "linecolor": "white",
             "minorgridcolor": "white",
             "startlinecolor": "#2a3f5f"
            },
            "type": "carpet"
           }
          ],
          "choropleth": [
           {
            "colorbar": {
             "outlinewidth": 0,
             "ticks": ""
            },
            "type": "choropleth"
           }
          ],
          "contour": [
           {
            "colorbar": {
             "outlinewidth": 0,
             "ticks": ""
            },
            "colorscale": [
             [
              0,
              "#0d0887"
             ],
             [
              0.1111111111111111,
              "#46039f"
             ],
             [
              0.2222222222222222,
              "#7201a8"
             ],
             [
              0.3333333333333333,
              "#9c179e"
             ],
             [
              0.4444444444444444,
              "#bd3786"
             ],
             [
              0.5555555555555556,
              "#d8576b"
             ],
             [
              0.6666666666666666,
              "#ed7953"
             ],
             [
              0.7777777777777778,
              "#fb9f3a"
             ],
             [
              0.8888888888888888,
              "#fdca26"
             ],
             [
              1,
              "#f0f921"
             ]
            ],
            "type": "contour"
           }
          ],
          "contourcarpet": [
           {
            "colorbar": {
             "outlinewidth": 0,
             "ticks": ""
            },
            "type": "contourcarpet"
           }
          ],
          "heatmap": [
           {
            "colorbar": {
             "outlinewidth": 0,
             "ticks": ""
            },
            "colorscale": [
             [
              0,
              "#0d0887"
             ],
             [
              0.1111111111111111,
              "#46039f"
             ],
             [
              0.2222222222222222,
              "#7201a8"
             ],
             [
              0.3333333333333333,
              "#9c179e"
             ],
             [
              0.4444444444444444,
              "#bd3786"
             ],
             [
              0.5555555555555556,
              "#d8576b"
             ],
             [
              0.6666666666666666,
              "#ed7953"
             ],
             [
              0.7777777777777778,
              "#fb9f3a"
             ],
             [
              0.8888888888888888,
              "#fdca26"
             ],
             [
              1,
              "#f0f921"
             ]
            ],
            "type": "heatmap"
           }
          ],
          "histogram": [
           {
            "marker": {
             "pattern": {
              "fillmode": "overlay",
              "size": 10,
              "solidity": 0.2
             }
            },
            "type": "histogram"
           }
          ],
          "histogram2d": [
           {
            "colorbar": {
             "outlinewidth": 0,
             "ticks": ""
            },
            "colorscale": [
             [
              0,
              "#0d0887"
             ],
             [
              0.1111111111111111,
              "#46039f"
             ],
             [
              0.2222222222222222,
              "#7201a8"
             ],
             [
              0.3333333333333333,
              "#9c179e"
             ],
             [
              0.4444444444444444,
              "#bd3786"
             ],
             [
              0.5555555555555556,
              "#d8576b"
             ],
             [
              0.6666666666666666,
              "#ed7953"
             ],
             [
              0.7777777777777778,
              "#fb9f3a"
             ],
             [
              0.8888888888888888,
              "#fdca26"
             ],
             [
              1,
              "#f0f921"
             ]
            ],
            "type": "histogram2d"
           }
          ],
          "histogram2dcontour": [
           {
            "colorbar": {
             "outlinewidth": 0,
             "ticks": ""
            },
            "colorscale": [
             [
              0,
              "#0d0887"
             ],
             [
              0.1111111111111111,
              "#46039f"
             ],
             [
              0.2222222222222222,
              "#7201a8"
             ],
             [
              0.3333333333333333,
              "#9c179e"
             ],
             [
              0.4444444444444444,
              "#bd3786"
             ],
             [
              0.5555555555555556,
              "#d8576b"
             ],
             [
              0.6666666666666666,
              "#ed7953"
             ],
             [
              0.7777777777777778,
              "#fb9f3a"
             ],
             [
              0.8888888888888888,
              "#fdca26"
             ],
             [
              1,
              "#f0f921"
             ]
            ],
            "type": "histogram2dcontour"
           }
          ],
          "mesh3d": [
           {
            "colorbar": {
             "outlinewidth": 0,
             "ticks": ""
            },
            "type": "mesh3d"
           }
          ],
          "parcoords": [
           {
            "line": {
             "colorbar": {
              "outlinewidth": 0,
              "ticks": ""
             }
            },
            "type": "parcoords"
           }
          ],
          "pie": [
           {
            "automargin": true,
            "type": "pie"
           }
          ],
          "scatter": [
           {
            "fillpattern": {
             "fillmode": "overlay",
             "size": 10,
             "solidity": 0.2
            },
            "type": "scatter"
           }
          ],
          "scatter3d": [
           {
            "line": {
             "colorbar": {
              "outlinewidth": 0,
              "ticks": ""
             }
            },
            "marker": {
             "colorbar": {
              "outlinewidth": 0,
              "ticks": ""
             }
            },
            "type": "scatter3d"
           }
          ],
          "scattercarpet": [
           {
            "marker": {
             "colorbar": {
              "outlinewidth": 0,
              "ticks": ""
             }
            },
            "type": "scattercarpet"
           }
          ],
          "scattergeo": [
           {
            "marker": {
             "colorbar": {
              "outlinewidth": 0,
              "ticks": ""
             }
            },
            "type": "scattergeo"
           }
          ],
          "scattergl": [
           {
            "marker": {
             "colorbar": {
              "outlinewidth": 0,
              "ticks": ""
             }
            },
            "type": "scattergl"
           }
          ],
          "scattermap": [
           {
            "marker": {
             "colorbar": {
              "outlinewidth": 0,
              "ticks": ""
             }
            },
            "type": "scattermap"
           }
          ],
          "scattermapbox": [
           {
            "marker": {
             "colorbar": {
              "outlinewidth": 0,
              "ticks": ""
             }
            },
            "type": "scattermapbox"
           }
          ],
          "scatterpolar": [
           {
            "marker": {
             "colorbar": {
              "outlinewidth": 0,
              "ticks": ""
             }
            },
            "type": "scatterpolar"
           }
          ],
          "scatterpolargl": [
           {
            "marker": {
             "colorbar": {
              "outlinewidth": 0,
              "ticks": ""
             }
            },
            "type": "scatterpolargl"
           }
          ],
          "scatterternary": [
           {
            "marker": {
             "colorbar": {
              "outlinewidth": 0,
              "ticks": ""
             }
            },
            "type": "scatterternary"
           }
          ],
          "surface": [
           {
            "colorbar": {
             "outlinewidth": 0,
             "ticks": ""
            },
            "colorscale": [
             [
              0,
              "#0d0887"
             ],
             [
              0.1111111111111111,
              "#46039f"
             ],
             [
              0.2222222222222222,
              "#7201a8"
             ],
             [
              0.3333333333333333,
              "#9c179e"
             ],
             [
              0.4444444444444444,
              "#bd3786"
             ],
             [
              0.5555555555555556,
              "#d8576b"
             ],
             [
              0.6666666666666666,
              "#ed7953"
             ],
             [
              0.7777777777777778,
              "#fb9f3a"
             ],
             [
              0.8888888888888888,
              "#fdca26"
             ],
             [
              1,
              "#f0f921"
             ]
            ],
            "type": "surface"
           }
          ],
          "table": [
           {
            "cells": {
             "fill": {
              "color": "#EBF0F8"
             },
             "line": {
              "color": "white"
             }
            },
            "header": {
             "fill": {
              "color": "#C8D4E3"
             },
             "line": {
              "color": "white"
             }
            },
            "type": "table"
           }
          ]
         },
         "layout": {
          "annotationdefaults": {
           "arrowcolor": "#2a3f5f",
           "arrowhead": 0,
           "arrowwidth": 1
          },
          "autotypenumbers": "strict",
          "coloraxis": {
           "colorbar": {
            "outlinewidth": 0,
            "ticks": ""
           }
          },
          "colorscale": {
           "diverging": [
            [
             0,
             "#8e0152"
            ],
            [
             0.1,
             "#c51b7d"
            ],
            [
             0.2,
             "#de77ae"
            ],
            [
             0.3,
             "#f1b6da"
            ],
            [
             0.4,
             "#fde0ef"
            ],
            [
             0.5,
             "#f7f7f7"
            ],
            [
             0.6,
             "#e6f5d0"
            ],
            [
             0.7,
             "#b8e186"
            ],
            [
             0.8,
             "#7fbc41"
            ],
            [
             0.9,
             "#4d9221"
            ],
            [
             1,
             "#276419"
            ]
           ],
           "sequential": [
            [
             0,
             "#0d0887"
            ],
            [
             0.1111111111111111,
             "#46039f"
            ],
            [
             0.2222222222222222,
             "#7201a8"
            ],
            [
             0.3333333333333333,
             "#9c179e"
            ],
            [
             0.4444444444444444,
             "#bd3786"
            ],
            [
             0.5555555555555556,
             "#d8576b"
            ],
            [
             0.6666666666666666,
             "#ed7953"
            ],
            [
             0.7777777777777778,
             "#fb9f3a"
            ],
            [
             0.8888888888888888,
             "#fdca26"
            ],
            [
             1,
             "#f0f921"
            ]
           ],
           "sequentialminus": [
            [
             0,
             "#0d0887"
            ],
            [
             0.1111111111111111,
             "#46039f"
            ],
            [
             0.2222222222222222,
             "#7201a8"
            ],
            [
             0.3333333333333333,
             "#9c179e"
            ],
            [
             0.4444444444444444,
             "#bd3786"
            ],
            [
             0.5555555555555556,
             "#d8576b"
            ],
            [
             0.6666666666666666,
             "#ed7953"
            ],
            [
             0.7777777777777778,
             "#fb9f3a"
            ],
            [
             0.8888888888888888,
             "#fdca26"
            ],
            [
             1,
             "#f0f921"
            ]
           ]
          },
          "colorway": [
           "#636efa",
           "#EF553B",
           "#00cc96",
           "#ab63fa",
           "#FFA15A",
           "#19d3f3",
           "#FF6692",
           "#B6E880",
           "#FF97FF",
           "#FECB52"
          ],
          "font": {
           "color": "#2a3f5f"
          },
          "geo": {
           "bgcolor": "white",
           "lakecolor": "white",
           "landcolor": "#E5ECF6",
           "showlakes": true,
           "showland": true,
           "subunitcolor": "white"
          },
          "hoverlabel": {
           "align": "left"
          },
          "hovermode": "closest",
          "mapbox": {
           "style": "light"
          },
          "paper_bgcolor": "white",
          "plot_bgcolor": "#E5ECF6",
          "polar": {
           "angularaxis": {
            "gridcolor": "white",
            "linecolor": "white",
            "ticks": ""
           },
           "bgcolor": "#E5ECF6",
           "radialaxis": {
            "gridcolor": "white",
            "linecolor": "white",
            "ticks": ""
           }
          },
          "scene": {
           "xaxis": {
            "backgroundcolor": "#E5ECF6",
            "gridcolor": "white",
            "gridwidth": 2,
            "linecolor": "white",
            "showbackground": true,
            "ticks": "",
            "zerolinecolor": "white"
           },
           "yaxis": {
            "backgroundcolor": "#E5ECF6",
            "gridcolor": "white",
            "gridwidth": 2,
            "linecolor": "white",
            "showbackground": true,
            "ticks": "",
            "zerolinecolor": "white"
           },
           "zaxis": {
            "backgroundcolor": "#E5ECF6",
            "gridcolor": "white",
            "gridwidth": 2,
            "linecolor": "white",
            "showbackground": true,
            "ticks": "",
            "zerolinecolor": "white"
           }
          },
          "shapedefaults": {
           "line": {
            "color": "#2a3f5f"
           }
          },
          "ternary": {
           "aaxis": {
            "gridcolor": "white",
            "linecolor": "white",
            "ticks": ""
           },
           "baxis": {
            "gridcolor": "white",
            "linecolor": "white",
            "ticks": ""
           },
           "bgcolor": "#E5ECF6",
           "caxis": {
            "gridcolor": "white",
            "linecolor": "white",
            "ticks": ""
           }
          },
          "title": {
           "x": 0.05
          },
          "xaxis": {
           "automargin": true,
           "gridcolor": "white",
           "linecolor": "white",
           "ticks": "",
           "title": {
            "standoff": 15
           },
           "zerolinecolor": "white",
           "zerolinewidth": 2
          },
          "yaxis": {
           "automargin": true,
           "gridcolor": "white",
           "linecolor": "white",
           "ticks": "",
           "title": {
            "standoff": 15
           },
           "zerolinecolor": "white",
           "zerolinewidth": 2
          }
         }
        },
        "title": {
         "text": "Sentiment Distribution (1=Positive, 0=Neutral, -1=Negative)"
        },
        "xaxis": {
         "anchor": "y",
         "categoryarray": [
          -1,
          0,
          1
         ],
         "categoryorder": "array",
         "domain": [
          0,
          1
         ],
         "title": {
          "text": "Sentiment"
         }
        },
        "yaxis": {
         "anchor": "x",
         "domain": [
          0,
          1
         ],
         "title": {
          "text": "Count"
         }
        }
       }
      }
     },
     "metadata": {},
     "output_type": "display_data"
    }
   ],
   "source": [
    "# Employ plotly to make visualization\n",
    "from matplotlib.pyplot import ylim\n",
    "import plotly.express as px\n",
    "import plotly.graph_objects as go\n",
    "\n",
    "# Sentiment Distribution\n",
    "fig1 = px.histogram(\n",
    "    df, x='label', color='label',\n",
    "    title=\"Sentiment Distribution (1=Positive, 0=Neutral, -1=Negative)\",\n",
    "    color_discrete_map={-1.0: \"red\", 0.0: \"gray\", 1.0: \"green\"}\n",
    ")\n",
    "fig1.update_layout(xaxis_title=\"Sentiment\", yaxis_title=\"Count\",)\n",
    "fig1.show()"
   ]
  },
  {
   "cell_type": "markdown",
   "metadata": {},
   "source": [
    "The second graph is a **box Plot** of **Text Length vs Sentiment**.\n",
    "<br>\n",
    "This graph is used to find out: **Do positive posts tend to be longer or shorter than negative ones? Is there much variation in text length across sentiments?**"
   ]
  },
  {
   "cell_type": "code",
   "execution_count": null,
   "metadata": {},
   "outputs": [
    {
     "data": {
      "application/vnd.plotly.v1+json": {
       "config": {
        "plotlyServerURL": "https://plot.ly"
       },
       "data": [
        {
         "alignmentgroup": "True",
         "hovertemplate": "label=%{x}<br>text_length=%{y}<extra></extra>",
         "legendgroup": "-1.0",
         "marker": {
          "color": "red"
         },
         "name": "-1.0",
         "notched": false,
         "offsetgroup": "-1.0",
         "orientation": "v",
         "showlegend": true,
         "type": "box",
         "x": {
          "bdata": "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",
          "dtype": "f8"
         },
         "x0": " ",
         "xaxis": "x",
         "y": {
          "bdata": "AwAFADQACQACAHAAAwCSAAgAIwARAA8AGgAZABsAKgAgABQAEAAGAAMABABFAEIABgAOAAgABwAcACUADAAGAC4ADwAeAAEAEQAQAAgACwAVAAIADQAWAD8ADQASADMACAAfABMA6gAOAA4AOwAYAC0ADQAOACoACgAVAAEAXQAWAAUABgAgAAsADQAbABgABgAFACIAJABfAScANgAoAAwAEQAJADoAEAAHAAYABgAGACEADwCQAAUACAAOABwAEAADACgAXgACAF0ALwABAAwAQgAwAA0ABgANAAcABQAMAAkADAAEADsAHwAZAAwAKAAPAAkAHAANAAwABQAOABkAOAAeABgAAwASAB4ABQAQACAACgAeAC8ABwAKAEQADACIADkAGAA/AEMAFwAIAAkAUAA2ACcAEwAVABIAMAAFABAACwAlAAIAEgAXAAoABQAGADAABAAGABIALgANAAwABAAWADEADAAhAA8AHwAHAAIAHQA0ACQABwAFABIACAASABkACQAGAB4AEAA5AB8ACwAGAAkAHwAKADgADgABAAsAGAAZAAkACQAEABwARgAKABIATgALAA8ALQAHAAsAHwAyADUACgASABgACAACABEAFABPABkADwAGAI0AIQBGABkAEwARACEAFgCIABAAYgA0AAQADQAJACYAHQAVABcARwAtAC0ASQABABgAOQALAAsAEAAaAAMAOAAGAAgAEgAIABAACwBNABAAEgAIABMAIAAQAAYAFAAQAAQAZABAABAAAgAVAAUAJgAOABEACgAdABIADgAEAEYAAgATADEACwAGAA8AIQAYABcAEwAEAA0A",
          "dtype": "i2"
         },
         "y0": " ",
         "yaxis": "y"
        },
        {
         "alignmentgroup": "True",
         "hovertemplate": "label=%{x}<br>text_length=%{y}<extra></extra>",
         "legendgroup": "0.0",
         "marker": {
          "color": "gray"
         },
         "name": "0.0",
         "notched": false,
         "offsetgroup": "0.0",
         "orientation": "v",
         "showlegend": true,
         "type": "box",
         "x": {
          "bdata": "AAAAAAAAAAAAAAAAAAAAAAAAAAAAAAAAAAAAAAAAAAAAAAAAAAAAAAAAAAAAAAAAAAAAAAAAAAAAAAAAAAAAAAAAAAAAAAAAAAAAAAAAAAAAAAAAAAAAAAAAAAAAAAAAAAAAAAAAAAAAAAAAAAAAAAAAAAAAAAAAAAAAAAAAAAAAAAAAAAAAAAAAAAAAAAAAAAAAAAAAAAAAAAAAAAAAAAAAAAAAAAAAAAAAAAAAAAAAAAAAAAAAAAAAAAAAAAAAAAAAAAAAAAAAAAAAAAAAAAAAAAAAAAAAAAAAAAAAAAAAAAAAAAAAAAAAAAAAAAAAAAAAAAAAAAAAAAAAAAAAAAAAAAAAAAAAAAAAAAAAAAAAAAAAAAAAAAAAAAAAAAAAAAAAAAAAAAAAAAAAAAAAAAAAAAAAAAAAAAAAAAAAAAAAAAAAAAAAAAAAAAAAAAAAAAAAAAAAAAAAAAAAAAAAAAAAAAAAAAAAAAAAAAAAAAAAAAAAAAAAAAAAAAAAAAAAAAAAAAAAAAAAAAAAAAAAAAAAAAAAAAAAAAAAAAAAAAAAAAAAAAAAAAAAAAAAAAAAAAAAAAAAAAAAAAAAAAAAAAAAAAAAAAAAAAAAAAAAAAAAAAAAAAAAAAAAAAAAAAAAAAAAAAAAAAAAAAAAAAAAAAAAAAAAAAAAAAAAAAAAAAAAAAAAAAAAAAAAAAAAAAAAAAAAAAAAAAAAAAAAAAAAAAAAAAAAAAAAAAAAAAAAAAAAAAAAAAAAAAAAAAAAAAAAAAAAAAAAAAAAAAAAAAAAAAAAAAAAAAAAAAAAAAAAAAAAAAAAAAAAAAAAAAAAAAAAAAAAAAAAAAAAAAAAAAAAAAAAAAAAAAAAAAAAAAAAAAAAAAAAAAAAAAAAAAAAAAAAAAAAAAAAAAAAAAAAAAAAAAAAAAAAAAAAAAAAAAAAAAAAAAAAAAAAAAAAAAAAAAAAAAAAAAAAAAAAAAAAAAAAAAAAAAAAAAAAAAAAAAAAAAAAAAAAAAAAAAAAAAAAAAAAAAAAAAAAAAAAAAAAAAAAAAAAAAAAAAAAAAAAAAAAAAAAAAAAAAAAAAAAAAAAAAAAAAAAAAAAAAAAAAAAAAAAAAAAAAAAAAAAAAAAAAAAAAAAAAAAAAAAAAAAAAAAAAAAAAAAAAAAAAAAAAAAAAAAAAAAAAAAAAAAAAAAAAAAAAAAAAAAAAAAAAAAAAAAAAAAAAAAAAAAAAAAAAAAAAAAAAAAAAAAAAAAAAAAAAAAAAAAAAAAAAAAAAAAAAAAAAAAAAAAAAAAAAAAAAAAAAAAAAAAAAAAAAAAAAAAAAAAAAAAAAAAAAAAAAAAAAAAAAAAAAAAAAAAAAAAAAAAAAAAAAAAAAAAAAAAAAAAAAAAAAAAAAAAAAAAAAAAAAAAAAAAAAAAAAAAAAAAAAAAAAAAAAAAAAAAAAAAAAAAAAAAAAAAAAAAAAAAAAAAAAAAAAAAAAAAAAAAAAAAAAAAAAAAAAAAAAAAAAAAAAAAAAAAAAAAAAAAAAAAAAAAAAAAAAAAAAAAAAAAAAAAAAAAAAAAAAAAAAAAAAAAAAAAAAAAAAAAAAAAAAAAAAAAAAAAAAAAAAAAAAAAAAAAAAAAAAAAAAAAAAAAAAAAAAAAAAAAAAAAAAAAAAAAAAAAAAAAAAAAAAAAAAAAAAAAAAAAAAAAAAAAAAAAAAAAAAAAAAAAAAAAAAAAAAAAAAAAAAAAAAAAAAAAAAAAAAAAAAAAAAAAAAAAAAAAAAAAAAAAAAAAAAAAAAAAAAAAAAAAAAAAAAAAAAAAAAAAAAAAAAAAAAAAAAAAAAAAAAAAAAAAAAAAAAAAAAAAAAAAAAAAAAAAAAAAAAAAAAAAAAAAAAAAAAAAAAAAAAAAAAAAAAAAAAAAAAAAAAAAAAAAAAAAAAAAAAAAAAAAAAAAAAAAAAAAAAAAAAAAAAAAAAAAAAAAAAAAAAAAAAAAAAAAAAAAAAAAAAAAAAAAAAAAAAAAAAAAAAAAAAAAAAAAAAAAAAAAAAAAAAAAAAAAAAAAAAAAAAAAAAAAAAAAAAAAAAAAAAAAAAAAAAAAAAAAAAAAAAAAAAAAAAAAAAAAAAAAAAAAAAAAAAAAAAAAAAAAAAAAAAAAAAAAAAAAAAAAAAAAAAAAAAAAAAAAAAAAAAAAAAAAAAAAAAAAAAAAAAAAAAAAAAAAAAAAAAAAAAAAAAAAAAAAAAAAAAAAAAAAAAAAAAAAAAAAAAAAAAAAAAAAAAAAAAAAAAAAAAAAAAAAAAAAAAAAAAAAAAAAAAAAAAAAAAAAAAAAAAAAAAAAAAAAAAAAAAAAAAAAAAAAAAAAAAAAAAAAAAAAAAAAAAAAAAAAAAAAAAAAAAAAAAAAAAAAAAAAAAAAAAAAAAAAAAAAAAAAAAAAAAAAAAAAAAAAAAAAAAAAAAAAAAAAAAAAAAAAAAAAAAAAAAAAAAAAAAAAAAAAAAAAAAAAAAAAAAAAAAAAAAAAAAAAAAAAAAAAAAAAAAAAAAAAAAAAAAAAAAAAAAAAAAAAAAAAAAAAAAAAAAAAAAAAAAAAAAAAAAAAAAAAAAAAAAAAAAAAAAAAAAAAAAAAAAAAAAAAAAAAAAAAAAAAAAAAAAAAAAAAAAAAAAAAAAAAAAAAAAAAAAAAAAAAAAAAAAAAAAAAAAAAAAAAAAAAAAAAAAAAAAAAAAAAAAAAAAAAAAAAAAAAAAAAAAAAAAAAAAAAAAAAAAAAAAAAAAAAAAAAAAAAAAAAAAAAAAAAAAAAAAAAAAAAAAAAAAAAAAAAAAAAAAAAAAAAAAAAAAAAAAAAAAAAAAAAAAAAAAAAAAAAAAAAAAAAAAAAAAAAAAAAAAAAAAAAAAAAAAAAAAAAAAAAAAAAAAAAAAAAAAAAAAAAAAAAAAAAAAAAAAAAAAAAAAAAAAAAAAAAAAAAAAAAAAAAAAAAAAAAAAAAAAAAAAAAAAAAAAAAAAAAAAAAAAAAAAAAAAAAAAAAAAAAAAAAAAAAAAAAAAAAAAAAAAAAAAAAAAAAAAAAAAAAAAAAAAAAAAAAAAAAAAAAAAAAAAAAAAAAAAAAAAAAAAAAAAAAAAAAAAAAAAAAAAAAAAAAAAAAAAAAAAAAAAAAAAAAAAAAAAAAAAAAAAAAAAAAAAAAAAAAAAAAAAAAAAAAAAAAAAAAAAAAAAAAAAAAAAAAAAAAAAAAAAAAAAAAAAAAAAAAAAAAAAAAAAAAAAAAAAAAAAAAAAAAAAAAAAAAAAAAAAAAAAAAAAAAAAAAAAAAAAAAAAAAAAAAAAAAAAAAAAAAAAAAAAAAAAAAAAAAAAAAAAAAAAAAAAAAAAAAAAAAAAAAAAAAAAAAAAAAAAAAAAAAAAAAAAAAAAAAAAAAAAAAAAAAAAAAAAAAAAAAAAAAAAAAAAAAAAAAAAAAAAAAAAAAAAAAAAAAAAAAAAAAAAAAAAAAAAAAAAAAAAAAAAAAAAAAAAAAAAAAAAAAAAAAAAAAAAAAAAAAAAAAAAAAAAAAAAAAAAAAAAAAAAAAAAAAAAAAAAAAAAAAAAAAAAAAAAAAAAAAAAAAAAAAAAAAAAAAAAAAAAAAAAAAAAAAAAAAAAAAAAAAAAAAAAAAAAAAAAAAAAAAAAAAAAAAAAAAAAAAAAAAAAAAAAAAAAAAAAAAAAAAAAAAAAAAAAAAAAAAAAAAAAAAAAAAAAAAAAAAAAAAAAAAAAAAAAAAAAAAAAAAAAAAAAAAAAAAAAAAAAAAAAAAAAAAAAAAAAAAAAAAAAAAAAAAAAAAAAAAAAAAAAAAAAAAAAAAAAAAAAAAAAAAAAAAAAAAAAAAAAAAAAAAAAAAAAAAAAAAAAAAAAAAAAAAAAAAAAAAAAAAAAAAAAAAAAAAAAAAAAAAAAAAAAAAAAAAAAAAAAAAAAAAAAAAAAAAAAAAAAAAAAAAAAAAAAAAAAAAAAAAAAAAAAAAAAAAAAAAAAAAAAAAAAAAAAAAAAAAAAAAAAAAAAAAAAAAAAAAAAAAAAAAAAAAAAAAAAAAAAAAAAAAAAAAAAAAAAAAAAAAAAAAAAAAAAAAAAAAAAAAAAAAAAAAAAAAAAAAAAAAAAAAAAAAAAAAAAAAAAAAAAAAAAAAAAAAAAAAAAAAAAAAAAAAAAAAAAAAAAAAAAAAAAAAAAAAAAAAAAAAAAAAAAAAAAAAAAAAAAAAAAAAAAAAAAAAAAAAAAAAAAAAAAAAAAAAAAAAAAAAAAAAAAAAAAAAAAAAAAAAAAAAAAAAAAAAAAAAAAAAAAAAAAAAAAAAAAAAAAAAAA==",
          "dtype": "f8"
         },
         "x0": " ",
         "xaxis": "x",
         "y": {
          "bdata": "GwAHAAsAFwAHABAAMgAGAAIAAgAIAAQABAAJAAcAlAEOAAIAKwABABAAAgAIADQABAAJAA4ABgAEABIAAgAhAAQADADLAAMABwApAAYAAwBqAAkALQA4ABcAGwDjASoACAAIACkACABFABAABgAKAAcAAwACAAEABgAGABIAHAAEADoAGQAJAAUAHQAzAAUACQAMAAEAEAADAEIAZgAhAAYADAABABAABQB5AFYABwAOABEAFQACAAEAEAACABEABQAKABQABwAnACEABAARAAMABQAKABQADwAEAAkADwAVAEoAUgBLAAcAEQArABIADAAIAAgAIgAEAAwACAAZAA8ABgATAAEACAAJAAkAGAA0AA4ABQANABgALgAuAAwAHAAKABoAGgARAAYACgABAAQAGAAGAAYAAQABACYACgATAAwAGAAgAAwACAALAAoAnwAJAAUAAwACACUAJgAWAScAFABsAAoADAACAAsADgDmABQAGgAEAAUADgAGAAkAIgAFAAoAegAYAAcAAQAbAAYACwAGAAIABAAqAAgACQATACkACAAGAHwABgAQAAUAAgAMAAEAAgANABcABAAvAIAAJgAMAAUACwAOACMAcgAbAC0ABAAuAAcABQByAAcABwAeAEEAFgAFAAcACQAYADIAAwAnABIAEgAEAAkACwAHABgADgACAAEADgABAAkAAgALABAABAAJACYACQARACQAJQAKAAgAEgADAAIAJAAYAFYAOgB/AAgARwASAA4ABwAaACMABAAPAAoAFgAIABAAGgAIAAwABQAPABIAIQAEAA4ABQAVAA4AFAAHABwAEgAVAAIAEQAHAA4ABgAFAAgACAAYABcAEgBRABwAEwATAAMAAgACABAACwACACcACAADAAEAVgAOABgAFwAPAAcAawAEAA0ABgAWAAEABQAGAAYABQAPAA0ACQABACsACQAmACUABQAOACcAHgAEABEABgAUAAYAAwAYAAYABgA3AAUAHQABAIcAJgACAAYABgAHABsAEgAgAAEABQAKAB4AFgBTAAYABAAFAAIABQABAA==",
          "dtype": "i2"
         },
         "y0": " ",
         "yaxis": "y"
        },
        {
         "alignmentgroup": "True",
         "hovertemplate": "label=%{x}<br>text_length=%{y}<extra></extra>",
         "legendgroup": "1.0",
         "marker": {
          "color": "green"
         },
         "name": "1.0",
         "notched": false,
         "offsetgroup": "1.0",
         "orientation": "v",
         "showlegend": true,
         "type": "box",
         "x": {
          "bdata": "AAAAAAAA8D8AAAAAAADwPwAAAAAAAPA/AAAAAAAA8D8AAAAAAADwPwAAAAAAAPA/AAAAAAAA8D8AAAAAAADwPwAAAAAAAPA/AAAAAAAA8D8AAAAAAADwPwAAAAAAAPA/AAAAAAAA8D8AAAAAAADwPwAAAAAAAPA/AAAAAAAA8D8AAAAAAADwPwAAAAAAAPA/AAAAAAAA8D8AAAAAAADwPwAAAAAAAPA/AAAAAAAA8D8AAAAAAADwPwAAAAAAAPA/AAAAAAAA8D8AAAAAAADwPwAAAAAAAPA/AAAAAAAA8D8AAAAAAADwPwAAAAAAAPA/AAAAAAAA8D8AAAAAAADwPwAAAAAAAPA/AAAAAAAA8D8AAAAAAADwPwAAAAAAAPA/AAAAAAAA8D8AAAAAAADwPwAAAAAAAPA/AAAAAAAA8D8AAAAAAADwPwAAAAAAAPA/AAAAAAAA8D8AAAAAAADwPwAAAAAAAPA/AAAAAAAA8D8AAAAAAADwPwAAAAAAAPA/AAAAAAAA8D8AAAAAAADwPwAAAAAAAPA/AAAAAAAA8D8AAAAAAADwPwAAAAAAAPA/AAAAAAAA8D8AAAAAAADwPwAAAAAAAPA/AAAAAAAA8D8AAAAAAADwPwAAAAAAAPA/AAAAAAAA8D8AAAAAAADwPwAAAAAAAPA/AAAAAAAA8D8AAAAAAADwPwAAAAAAAPA/AAAAAAAA8D8AAAAAAADwPwAAAAAAAPA/AAAAAAAA8D8AAAAAAADwPwAAAAAAAPA/AAAAAAAA8D8AAAAAAADwPwAAAAAAAPA/AAAAAAAA8D8AAAAAAADwPwAAAAAAAPA/AAAAAAAA8D8AAAAAAADwPwAAAAAAAPA/AAAAAAAA8D8AAAAAAADwPwAAAAAAAPA/AAAAAAAA8D8AAAAAAADwPwAAAAAAAPA/AAAAAAAA8D8AAAAAAADwPwAAAAAAAPA/AAAAAAAA8D8AAAAAAADwPwAAAAAAAPA/AAAAAAAA8D8AAAAAAADwPwAAAAAAAPA/AAAAAAAA8D8AAAAAAADwPwAAAAAAAPA/AAAAAAAA8D8AAAAAAADwPwAAAAAAAPA/AAAAAAAA8D8AAAAAAADwPwAAAAAAAPA/AAAAAAAA8D8AAAAAAADwPwAAAAAAAPA/",
          "dtype": "f8"
         },
         "x0": " ",
         "xaxis": "x",
         "y": {
          "bdata": "nwAlAA4ADwAKADEACAAMAAsAFAAMAAwANgAFAB0AHwAbABoAAQAYAEoBOwA0AAUAAgAeAAQACAALABIAoQAEAIQABQAMAB4AGwAVAAMAIAAiAAkAHgApADcACwAhAAEABQAMAAEACAAFAIAABgAPAAQACAAsAAYACQAKAA0APAAQABkAEAAUAA8ARwAMAD8AHwAVAAIAFwAHAAoADwAKAFIAOQBYAAwACwAJAA8ACwALADoACQAMAA4ABQAPAAsADQAWABQAHwACAA4ACgAIACAAAwARAAkA",
          "dtype": "i2"
         },
         "y0": " ",
         "yaxis": "y"
        }
       ],
       "layout": {
        "boxmode": "overlay",
        "legend": {
         "title": {
          "text": "label"
         },
         "tracegroupgap": 0
        },
        "template": {
         "data": {
          "bar": [
           {
            "error_x": {
             "color": "#2a3f5f"
            },
            "error_y": {
             "color": "#2a3f5f"
            },
            "marker": {
             "line": {
              "color": "#E5ECF6",
              "width": 0.5
             },
             "pattern": {
              "fillmode": "overlay",
              "size": 10,
              "solidity": 0.2
             }
            },
            "type": "bar"
           }
          ],
          "barpolar": [
           {
            "marker": {
             "line": {
              "color": "#E5ECF6",
              "width": 0.5
             },
             "pattern": {
              "fillmode": "overlay",
              "size": 10,
              "solidity": 0.2
             }
            },
            "type": "barpolar"
           }
          ],
          "carpet": [
           {
            "aaxis": {
             "endlinecolor": "#2a3f5f",
             "gridcolor": "white",
             "linecolor": "white",
             "minorgridcolor": "white",
             "startlinecolor": "#2a3f5f"
            },
            "baxis": {
             "endlinecolor": "#2a3f5f",
             "gridcolor": "white",
             "linecolor": "white",
             "minorgridcolor": "white",
             "startlinecolor": "#2a3f5f"
            },
            "type": "carpet"
           }
          ],
          "choropleth": [
           {
            "colorbar": {
             "outlinewidth": 0,
             "ticks": ""
            },
            "type": "choropleth"
           }
          ],
          "contour": [
           {
            "colorbar": {
             "outlinewidth": 0,
             "ticks": ""
            },
            "colorscale": [
             [
              0,
              "#0d0887"
             ],
             [
              0.1111111111111111,
              "#46039f"
             ],
             [
              0.2222222222222222,
              "#7201a8"
             ],
             [
              0.3333333333333333,
              "#9c179e"
             ],
             [
              0.4444444444444444,
              "#bd3786"
             ],
             [
              0.5555555555555556,
              "#d8576b"
             ],
             [
              0.6666666666666666,
              "#ed7953"
             ],
             [
              0.7777777777777778,
              "#fb9f3a"
             ],
             [
              0.8888888888888888,
              "#fdca26"
             ],
             [
              1,
              "#f0f921"
             ]
            ],
            "type": "contour"
           }
          ],
          "contourcarpet": [
           {
            "colorbar": {
             "outlinewidth": 0,
             "ticks": ""
            },
            "type": "contourcarpet"
           }
          ],
          "heatmap": [
           {
            "colorbar": {
             "outlinewidth": 0,
             "ticks": ""
            },
            "colorscale": [
             [
              0,
              "#0d0887"
             ],
             [
              0.1111111111111111,
              "#46039f"
             ],
             [
              0.2222222222222222,
              "#7201a8"
             ],
             [
              0.3333333333333333,
              "#9c179e"
             ],
             [
              0.4444444444444444,
              "#bd3786"
             ],
             [
              0.5555555555555556,
              "#d8576b"
             ],
             [
              0.6666666666666666,
              "#ed7953"
             ],
             [
              0.7777777777777778,
              "#fb9f3a"
             ],
             [
              0.8888888888888888,
              "#fdca26"
             ],
             [
              1,
              "#f0f921"
             ]
            ],
            "type": "heatmap"
           }
          ],
          "histogram": [
           {
            "marker": {
             "pattern": {
              "fillmode": "overlay",
              "size": 10,
              "solidity": 0.2
             }
            },
            "type": "histogram"
           }
          ],
          "histogram2d": [
           {
            "colorbar": {
             "outlinewidth": 0,
             "ticks": ""
            },
            "colorscale": [
             [
              0,
              "#0d0887"
             ],
             [
              0.1111111111111111,
              "#46039f"
             ],
             [
              0.2222222222222222,
              "#7201a8"
             ],
             [
              0.3333333333333333,
              "#9c179e"
             ],
             [
              0.4444444444444444,
              "#bd3786"
             ],
             [
              0.5555555555555556,
              "#d8576b"
             ],
             [
              0.6666666666666666,
              "#ed7953"
             ],
             [
              0.7777777777777778,
              "#fb9f3a"
             ],
             [
              0.8888888888888888,
              "#fdca26"
             ],
             [
              1,
              "#f0f921"
             ]
            ],
            "type": "histogram2d"
           }
          ],
          "histogram2dcontour": [
           {
            "colorbar": {
             "outlinewidth": 0,
             "ticks": ""
            },
            "colorscale": [
             [
              0,
              "#0d0887"
             ],
             [
              0.1111111111111111,
              "#46039f"
             ],
             [
              0.2222222222222222,
              "#7201a8"
             ],
             [
              0.3333333333333333,
              "#9c179e"
             ],
             [
              0.4444444444444444,
              "#bd3786"
             ],
             [
              0.5555555555555556,
              "#d8576b"
             ],
             [
              0.6666666666666666,
              "#ed7953"
             ],
             [
              0.7777777777777778,
              "#fb9f3a"
             ],
             [
              0.8888888888888888,
              "#fdca26"
             ],
             [
              1,
              "#f0f921"
             ]
            ],
            "type": "histogram2dcontour"
           }
          ],
          "mesh3d": [
           {
            "colorbar": {
             "outlinewidth": 0,
             "ticks": ""
            },
            "type": "mesh3d"
           }
          ],
          "parcoords": [
           {
            "line": {
             "colorbar": {
              "outlinewidth": 0,
              "ticks": ""
             }
            },
            "type": "parcoords"
           }
          ],
          "pie": [
           {
            "automargin": true,
            "type": "pie"
           }
          ],
          "scatter": [
           {
            "fillpattern": {
             "fillmode": "overlay",
             "size": 10,
             "solidity": 0.2
            },
            "type": "scatter"
           }
          ],
          "scatter3d": [
           {
            "line": {
             "colorbar": {
              "outlinewidth": 0,
              "ticks": ""
             }
            },
            "marker": {
             "colorbar": {
              "outlinewidth": 0,
              "ticks": ""
             }
            },
            "type": "scatter3d"
           }
          ],
          "scattercarpet": [
           {
            "marker": {
             "colorbar": {
              "outlinewidth": 0,
              "ticks": ""
             }
            },
            "type": "scattercarpet"
           }
          ],
          "scattergeo": [
           {
            "marker": {
             "colorbar": {
              "outlinewidth": 0,
              "ticks": ""
             }
            },
            "type": "scattergeo"
           }
          ],
          "scattergl": [
           {
            "marker": {
             "colorbar": {
              "outlinewidth": 0,
              "ticks": ""
             }
            },
            "type": "scattergl"
           }
          ],
          "scattermap": [
           {
            "marker": {
             "colorbar": {
              "outlinewidth": 0,
              "ticks": ""
             }
            },
            "type": "scattermap"
           }
          ],
          "scattermapbox": [
           {
            "marker": {
             "colorbar": {
              "outlinewidth": 0,
              "ticks": ""
             }
            },
            "type": "scattermapbox"
           }
          ],
          "scatterpolar": [
           {
            "marker": {
             "colorbar": {
              "outlinewidth": 0,
              "ticks": ""
             }
            },
            "type": "scatterpolar"
           }
          ],
          "scatterpolargl": [
           {
            "marker": {
             "colorbar": {
              "outlinewidth": 0,
              "ticks": ""
             }
            },
            "type": "scatterpolargl"
           }
          ],
          "scatterternary": [
           {
            "marker": {
             "colorbar": {
              "outlinewidth": 0,
              "ticks": ""
             }
            },
            "type": "scatterternary"
           }
          ],
          "surface": [
           {
            "colorbar": {
             "outlinewidth": 0,
             "ticks": ""
            },
            "colorscale": [
             [
              0,
              "#0d0887"
             ],
             [
              0.1111111111111111,
              "#46039f"
             ],
             [
              0.2222222222222222,
              "#7201a8"
             ],
             [
              0.3333333333333333,
              "#9c179e"
             ],
             [
              0.4444444444444444,
              "#bd3786"
             ],
             [
              0.5555555555555556,
              "#d8576b"
             ],
             [
              0.6666666666666666,
              "#ed7953"
             ],
             [
              0.7777777777777778,
              "#fb9f3a"
             ],
             [
              0.8888888888888888,
              "#fdca26"
             ],
             [
              1,
              "#f0f921"
             ]
            ],
            "type": "surface"
           }
          ],
          "table": [
           {
            "cells": {
             "fill": {
              "color": "#EBF0F8"
             },
             "line": {
              "color": "white"
             }
            },
            "header": {
             "fill": {
              "color": "#C8D4E3"
             },
             "line": {
              "color": "white"
             }
            },
            "type": "table"
           }
          ]
         },
         "layout": {
          "annotationdefaults": {
           "arrowcolor": "#2a3f5f",
           "arrowhead": 0,
           "arrowwidth": 1
          },
          "autotypenumbers": "strict",
          "coloraxis": {
           "colorbar": {
            "outlinewidth": 0,
            "ticks": ""
           }
          },
          "colorscale": {
           "diverging": [
            [
             0,
             "#8e0152"
            ],
            [
             0.1,
             "#c51b7d"
            ],
            [
             0.2,
             "#de77ae"
            ],
            [
             0.3,
             "#f1b6da"
            ],
            [
             0.4,
             "#fde0ef"
            ],
            [
             0.5,
             "#f7f7f7"
            ],
            [
             0.6,
             "#e6f5d0"
            ],
            [
             0.7,
             "#b8e186"
            ],
            [
             0.8,
             "#7fbc41"
            ],
            [
             0.9,
             "#4d9221"
            ],
            [
             1,
             "#276419"
            ]
           ],
           "sequential": [
            [
             0,
             "#0d0887"
            ],
            [
             0.1111111111111111,
             "#46039f"
            ],
            [
             0.2222222222222222,
             "#7201a8"
            ],
            [
             0.3333333333333333,
             "#9c179e"
            ],
            [
             0.4444444444444444,
             "#bd3786"
            ],
            [
             0.5555555555555556,
             "#d8576b"
            ],
            [
             0.6666666666666666,
             "#ed7953"
            ],
            [
             0.7777777777777778,
             "#fb9f3a"
            ],
            [
             0.8888888888888888,
             "#fdca26"
            ],
            [
             1,
             "#f0f921"
            ]
           ],
           "sequentialminus": [
            [
             0,
             "#0d0887"
            ],
            [
             0.1111111111111111,
             "#46039f"
            ],
            [
             0.2222222222222222,
             "#7201a8"
            ],
            [
             0.3333333333333333,
             "#9c179e"
            ],
            [
             0.4444444444444444,
             "#bd3786"
            ],
            [
             0.5555555555555556,
             "#d8576b"
            ],
            [
             0.6666666666666666,
             "#ed7953"
            ],
            [
             0.7777777777777778,
             "#fb9f3a"
            ],
            [
             0.8888888888888888,
             "#fdca26"
            ],
            [
             1,
             "#f0f921"
            ]
           ]
          },
          "colorway": [
           "#636efa",
           "#EF553B",
           "#00cc96",
           "#ab63fa",
           "#FFA15A",
           "#19d3f3",
           "#FF6692",
           "#B6E880",
           "#FF97FF",
           "#FECB52"
          ],
          "font": {
           "color": "#2a3f5f"
          },
          "geo": {
           "bgcolor": "white",
           "lakecolor": "white",
           "landcolor": "#E5ECF6",
           "showlakes": true,
           "showland": true,
           "subunitcolor": "white"
          },
          "hoverlabel": {
           "align": "left"
          },
          "hovermode": "closest",
          "mapbox": {
           "style": "light"
          },
          "paper_bgcolor": "white",
          "plot_bgcolor": "#E5ECF6",
          "polar": {
           "angularaxis": {
            "gridcolor": "white",
            "linecolor": "white",
            "ticks": ""
           },
           "bgcolor": "#E5ECF6",
           "radialaxis": {
            "gridcolor": "white",
            "linecolor": "white",
            "ticks": ""
           }
          },
          "scene": {
           "xaxis": {
            "backgroundcolor": "#E5ECF6",
            "gridcolor": "white",
            "gridwidth": 2,
            "linecolor": "white",
            "showbackground": true,
            "ticks": "",
            "zerolinecolor": "white"
           },
           "yaxis": {
            "backgroundcolor": "#E5ECF6",
            "gridcolor": "white",
            "gridwidth": 2,
            "linecolor": "white",
            "showbackground": true,
            "ticks": "",
            "zerolinecolor": "white"
           },
           "zaxis": {
            "backgroundcolor": "#E5ECF6",
            "gridcolor": "white",
            "gridwidth": 2,
            "linecolor": "white",
            "showbackground": true,
            "ticks": "",
            "zerolinecolor": "white"
           }
          },
          "shapedefaults": {
           "line": {
            "color": "#2a3f5f"
           }
          },
          "ternary": {
           "aaxis": {
            "gridcolor": "white",
            "linecolor": "white",
            "ticks": ""
           },
           "baxis": {
            "gridcolor": "white",
            "linecolor": "white",
            "ticks": ""
           },
           "bgcolor": "#E5ECF6",
           "caxis": {
            "gridcolor": "white",
            "linecolor": "white",
            "ticks": ""
           }
          },
          "title": {
           "x": 0.05
          },
          "xaxis": {
           "automargin": true,
           "gridcolor": "white",
           "linecolor": "white",
           "ticks": "",
           "title": {
            "standoff": 15
           },
           "zerolinecolor": "white",
           "zerolinewidth": 2
          },
          "yaxis": {
           "automargin": true,
           "gridcolor": "white",
           "linecolor": "white",
           "ticks": "",
           "title": {
            "standoff": 15
           },
           "zerolinecolor": "white",
           "zerolinewidth": 2
          }
         }
        },
        "title": {
         "text": "Text Length vs Sentiment"
        },
        "xaxis": {
         "anchor": "y",
         "categoryarray": [
          -1,
          0,
          1
         ],
         "categoryorder": "array",
         "domain": [
          0,
          1
         ],
         "title": {
          "text": "Sentiment"
         }
        },
        "yaxis": {
         "anchor": "x",
         "domain": [
          0,
          1
         ],
         "title": {
          "text": "Text Length (words)"
         }
        }
       }
      }
     },
     "metadata": {},
     "output_type": "display_data"
    }
   ],
   "source": [
    "# Text Length Distribution by Sentiment\n",
    "fig2 = px.box(\n",
    "    df, x='label', y='text_length', color='label',\n",
    "    title=\"Text Length vs Sentiment\",\n",
    "    color_discrete_map={-1.0: \"red\", 0.0: \"gray\", 1.0: \"green\"}\n",
    ")\n",
    "fig2.update_layout(xaxis_title=\"Sentiment\", yaxis_title=\"Text Length (words)\")\n",
    "fig2.show()"
   ]
  },
  {
   "cell_type": "markdown",
   "metadata": {},
   "source": [
    "The third graph is a **scatter plot** of **Polarity vs Subjectivity**.\n",
    "<br>\n",
    "This graph is used to find out: **Do more positive posts cluster around high polarity values? Are neutral posts near the middle of both axes?**"
   ]
  },
  {
   "cell_type": "code",
   "execution_count": null,
   "metadata": {},
   "outputs": [
    {
     "data": {
      "application/vnd.plotly.v1+json": {
       "config": {
        "plotlyServerURL": "https://plot.ly"
       },
       "data": [
        {
         "customdata": [
          [
           "wallstreetbets",
           0
          ],
          [
           "wallstreetbets",
           -15
          ],
          [
           "StockMarket",
           1
          ],
          [
           "stockstobuytoday",
           30
          ],
          [
           "StockMarket",
           1
          ],
          [
           "wallstreetbets",
           16
          ],
          [
           "stocks",
           5
          ],
          [
           "wallstreetbets",
           -3
          ],
          [
           "stocks",
           1
          ],
          [
           "stockstobuytoday",
           2
          ],
          [
           "stocks",
           3
          ],
          [
           "wallstreetbets",
           9
          ],
          [
           "stocks",
           1
          ],
          [
           "stocks",
           2
          ],
          [
           "stocks",
           8
          ],
          [
           "stocks",
           1
          ],
          [
           "stocks",
           1
          ],
          [
           "stocks",
           1
          ],
          [
           "StockMarket",
           1
          ],
          [
           "stocks",
           12
          ],
          [
           "stocks",
           5
          ],
          [
           "stockstobuytoday",
           1
          ],
          [
           "wallstreetbets",
           5
          ],
          [
           "stocks",
           2
          ],
          [
           "stocks",
           1
          ],
          [
           "wallstreetbets",
           4
          ],
          [
           "StockMarket",
           1
          ],
          [
           "stockstobuytoday",
           1
          ],
          [
           "wallstreetbets",
           53
          ],
          [
           "stockstobuytoday",
           1
          ],
          [
           "stocks",
           3
          ],
          [
           "stockstobuytoday",
           1
          ],
          [
           "StockMarket",
           1
          ],
          [
           "StockMarket",
           1
          ],
          [
           "stocks",
           1
          ],
          [
           "wallstreetbets",
           0
          ],
          [
           "StockMarket",
           2
          ],
          [
           "stocks",
           5
          ],
          [
           "wallstreetbets",
           1
          ],
          [
           "stocks",
           4
          ],
          [
           "wallstreetbets",
           10
          ],
          [
           "stockstobuytoday",
           1
          ],
          [
           "stocks",
           2
          ],
          [
           "stocks",
           3
          ],
          [
           "stockstobuytoday",
           2
          ],
          [
           "StockMarket",
           1
          ],
          [
           "wallstreetbets",
           11
          ],
          [
           "stockstobuytoday",
           1
          ],
          [
           "stocks",
           1
          ],
          [
           "stockstobuytoday",
           1
          ],
          [
           "stocks",
           1
          ],
          [
           "wallstreetbets",
           2
          ],
          [
           "stocks",
           1
          ],
          [
           "StockMarket",
           1
          ],
          [
           "stocks",
           1
          ],
          [
           "stocks",
           -1
          ],
          [
           "StockMarket",
           1
          ],
          [
           "stocks",
           -1
          ],
          [
           "stockstobuytoday",
           1
          ],
          [
           "stockstobuytoday",
           1
          ],
          [
           "wallstreetbets",
           2
          ],
          [
           "StockMarket",
           1
          ],
          [
           "stocks",
           79
          ],
          [
           "StockMarket",
           -1
          ],
          [
           "stocks",
           1
          ],
          [
           "stocks",
           45
          ],
          [
           "wallstreetbets",
           1
          ],
          [
           "wallstreetbets",
           7
          ],
          [
           "StockMarket",
           26
          ],
          [
           "stockstobuytoday",
           1
          ],
          [
           "StockMarket",
           1
          ],
          [
           "stockstobuytoday",
           1
          ],
          [
           "stocks",
           1
          ],
          [
           "stockstobuytoday",
           1
          ],
          [
           "stocks",
           1
          ],
          [
           "StockMarket",
           1
          ],
          [
           "stocks",
           1
          ],
          [
           "StockMarket",
           1
          ],
          [
           "wallstreetbets",
           3
          ],
          [
           "stocks",
           3
          ],
          [
           "wallstreetbets",
           6
          ],
          [
           "stocks",
           2
          ],
          [
           "StockMarket",
           19
          ],
          [
           "wallstreetbets",
           1
          ],
          [
           "stockstobuytoday",
           1
          ],
          [
           "wallstreetbets",
           2
          ],
          [
           "stocks",
           3
          ],
          [
           "stockstobuytoday",
           1
          ],
          [
           "StockMarket",
           1
          ],
          [
           "stocks",
           1
          ],
          [
           "StockMarket",
           1
          ],
          [
           "StockMarket",
           1
          ],
          [
           "stocks",
           294
          ],
          [
           "StockMarket",
           1
          ],
          [
           "StockMarket",
           1
          ],
          [
           "wallstreetbets",
           1
          ],
          [
           "StockMarket",
           1
          ],
          [
           "StockMarket",
           11
          ],
          [
           "wallstreetbets",
           12
          ],
          [
           "StockMarket",
           1
          ],
          [
           "stocks",
           0
          ],
          [
           "wallstreetbets",
           1
          ],
          [
           "StockMarket",
           2
          ],
          [
           "stockstobuytoday",
           1
          ],
          [
           "stockstobuytoday",
           1
          ],
          [
           "StockMarket",
           1
          ],
          [
           "stockstobuytoday",
           1
          ],
          [
           "wallstreetbets",
           80
          ],
          [
           "StockMarket",
           7
          ],
          [
           "StockMarket",
           1
          ],
          [
           "StockMarket",
           1
          ],
          [
           "stockstobuytoday",
           0
          ],
          [
           "StockMarket",
           2
          ],
          [
           "StockMarket",
           2
          ],
          [
           "stockstobuytoday",
           1
          ],
          [
           "stocks",
           4
          ],
          [
           "stocks",
           1
          ],
          [
           "stocks",
           1
          ],
          [
           "StockMarket",
           1
          ],
          [
           "StockMarket",
           -25
          ],
          [
           "stockstobuytoday",
           1
          ],
          [
           "StockMarket",
           1
          ],
          [
           "stocks",
           1
          ],
          [
           "stocks",
           1
          ],
          [
           "StockMarket",
           1
          ],
          [
           "stockstobuytoday",
           1
          ],
          [
           "StockMarket",
           1
          ],
          [
           "stockstobuytoday",
           1
          ],
          [
           "StockMarket",
           9
          ],
          [
           "stocks",
           1
          ],
          [
           "stocks",
           34
          ],
          [
           "stocks",
           1
          ],
          [
           "stocks",
           5
          ],
          [
           "stockstobuytoday",
           11
          ],
          [
           "stocks",
           1
          ],
          [
           "stocks",
           11
          ],
          [
           "StockMarket",
           1
          ],
          [
           "stocks",
           12
          ],
          [
           "stockstobuytoday",
           1
          ],
          [
           "stocks",
           2
          ],
          [
           "wallstreetbets",
           3
          ],
          [
           "stocks",
           1
          ],
          [
           "stocks",
           1
          ],
          [
           "StockMarket",
           1
          ],
          [
           "stockstobuytoday",
           1
          ],
          [
           "StockMarket",
           1
          ],
          [
           "stocks",
           1
          ],
          [
           "stocks",
           27
          ],
          [
           "stocks",
           0
          ],
          [
           "stocks",
           1
          ],
          [
           "StockMarket",
           17
          ],
          [
           "StockMarket",
           1
          ],
          [
           "stockstobuytoday",
           1
          ],
          [
           "StockMarket",
           9
          ],
          [
           "stockstobuytoday",
           1
          ],
          [
           "stocks",
           81
          ],
          [
           "stocks",
           3
          ],
          [
           "stockstobuytoday",
           8
          ],
          [
           "stockstobuytoday",
           1
          ],
          [
           "stockstobuytoday",
           1
          ],
          [
           "stocks",
           2
          ],
          [
           "stocks",
           1
          ],
          [
           "stocks",
           5
          ],
          [
           "StockMarket",
           125
          ],
          [
           "stockstobuytoday",
           1
          ],
          [
           "stockstobuytoday",
           1
          ],
          [
           "stockstobuytoday",
           11
          ],
          [
           "stocks",
           1
          ],
          [
           "stockstobuytoday",
           31
          ],
          [
           "wallstreetbets",
           1
          ],
          [
           "wallstreetbets",
           9
          ],
          [
           "stocks",
           1
          ],
          [
           "stockstobuytoday",
           1
          ],
          [
           "wallstreetbets",
           8
          ],
          [
           "stocks",
           1
          ],
          [
           "stocks",
           3
          ],
          [
           "wallstreetbets",
           10
          ],
          [
           "stockstobuytoday",
           1
          ],
          [
           "stockstobuytoday",
           1
          ],
          [
           "StockMarket",
           1
          ],
          [
           "wallstreetbets",
           8
          ],
          [
           "StockMarket",
           4
          ],
          [
           "wallstreetbets",
           13
          ],
          [
           "stocks",
           1
          ],
          [
           "stocks",
           2
          ],
          [
           "stockstobuytoday",
           1
          ],
          [
           "StockMarket",
           1
          ],
          [
           "StockMarket",
           1
          ],
          [
           "stocks",
           1
          ],
          [
           "wallstreetbets",
           2
          ],
          [
           "wallstreetbets",
           1
          ],
          [
           "stockstobuytoday",
           1
          ],
          [
           "stocks",
           38
          ],
          [
           "StockMarket",
           1
          ],
          [
           "stocks",
           1
          ],
          [
           "wallstreetbets",
           20
          ],
          [
           "StockMarket",
           7
          ],
          [
           "StockMarket",
           4
          ],
          [
           "wallstreetbets",
           5
          ],
          [
           "StockMarket",
           1
          ],
          [
           "stocks",
           1
          ],
          [
           "stocks",
           1
          ],
          [
           "wallstreetbets",
           0
          ],
          [
           "StockMarket",
           1
          ],
          [
           "wallstreetbets",
           1
          ],
          [
           "stockstobuytoday",
           3
          ],
          [
           "stocks",
           1
          ],
          [
           "stocks",
           16
          ],
          [
           "wallstreetbets",
           9
          ],
          [
           "stocks",
           4
          ],
          [
           "wallstreetbets",
           10
          ],
          [
           "stocks",
           1
          ],
          [
           "StockMarket",
           28
          ],
          [
           "stockstobuytoday",
           2
          ],
          [
           "stockstobuytoday",
           2
          ],
          [
           "stockstobuytoday",
           2
          ],
          [
           "StockMarket",
           1
          ],
          [
           "stocks",
           3
          ],
          [
           "stockstobuytoday",
           1
          ],
          [
           "stocks",
           1
          ],
          [
           "stockstobuytoday",
           1
          ],
          [
           "stockstobuytoday",
           1
          ],
          [
           "StockMarket",
           1
          ],
          [
           "StockMarket",
           2
          ],
          [
           "wallstreetbets",
           9
          ],
          [
           "stockstobuytoday",
           1
          ],
          [
           "wallstreetbets",
           9
          ],
          [
           "wallstreetbets",
           1
          ],
          [
           "wallstreetbets",
           10
          ],
          [
           "StockMarket",
           11
          ],
          [
           "stockstobuytoday",
           1
          ],
          [
           "stockstobuytoday",
           1
          ],
          [
           "StockMarket",
           1
          ],
          [
           "stocks",
           2
          ],
          [
           "StockMarket",
           12
          ],
          [
           "wallstreetbets",
           8
          ],
          [
           "stockstobuytoday",
           1
          ],
          [
           "StockMarket",
           1
          ],
          [
           "StockMarket",
           1
          ],
          [
           "StockMarket",
           3
          ],
          [
           "wallstreetbets",
           8
          ],
          [
           "wallstreetbets",
           0
          ],
          [
           "stockstobuytoday",
           1
          ],
          [
           "stocks",
           -14
          ],
          [
           "StockMarket",
           1
          ],
          [
           "wallstreetbets",
           14
          ],
          [
           "wallstreetbets",
           13
          ],
          [
           "StockMarket",
           1
          ],
          [
           "StockMarket",
           3
          ],
          [
           "stockstobuytoday",
           50
          ],
          [
           "StockMarket",
           1
          ],
          [
           "StockMarket",
           2
          ],
          [
           "stocks",
           10
          ],
          [
           "StockMarket",
           3
          ],
          [
           "StockMarket",
           1
          ],
          [
           "StockMarket",
           2
          ],
          [
           "stocks",
           14
          ],
          [
           "stocks",
           4
          ],
          [
           "stocks",
           11
          ],
          [
           "stocks",
           2
          ],
          [
           "stockstobuytoday",
           1
          ],
          [
           "stocks",
           1
          ],
          [
           "wallstreetbets",
           4
          ],
          [
           "stockstobuytoday",
           1
          ],
          [
           "stockstobuytoday",
           1
          ],
          [
           "wallstreetbets",
           22
          ],
          [
           "stocks",
           1
          ],
          [
           "StockMarket",
           2
          ],
          [
           "stocks",
           1
          ],
          [
           "StockMarket",
           2
          ],
          [
           "stockstobuytoday",
           1
          ],
          [
           "StockMarket",
           10
          ],
          [
           "StockMarket",
           1
          ],
          [
           "StockMarket",
           18
          ],
          [
           "wallstreetbets",
           1
          ],
          [
           "StockMarket",
           1
          ],
          [
           "stockstobuytoday",
           1
          ],
          [
           "StockMarket",
           2
          ],
          [
           "stocks",
           1
          ],
          [
           "StockMarket",
           2
          ],
          [
           "StockMarket",
           1
          ],
          [
           "stocks",
           16
          ],
          [
           "stocks",
           1
          ],
          [
           "stockstobuytoday",
           1
          ],
          [
           "StockMarket",
           1
          ],
          [
           "stocks",
           3
          ],
          [
           "wallstreetbets",
           11
          ],
          [
           "stockstobuytoday",
           1
          ],
          [
           "stockstobuytoday",
           1
          ],
          [
           "wallstreetbets",
           26
          ],
          [
           "wallstreetbets",
           23
          ],
          [
           "stockstobuytoday",
           1
          ],
          [
           "stocks",
           3
          ],
          [
           "StockMarket",
           3
          ],
          [
           "StockMarket",
           1
          ],
          [
           "StockMarket",
           1
          ],
          [
           "stocks",
           1
          ],
          [
           "StockMarket",
           1
          ],
          [
           "StockMarket",
           1
          ],
          [
           "stockstobuytoday",
           1
          ],
          [
           "wallstreetbets",
           10
          ],
          [
           "StockMarket",
           1
          ],
          [
           "stockstobuytoday",
           2
          ],
          [
           "stocks",
           1
          ],
          [
           "wallstreetbets",
           1
          ],
          [
           "stockstobuytoday",
           1
          ],
          [
           "stocks",
           1
          ],
          [
           "stockstobuytoday",
           1
          ],
          [
           "StockMarket",
           -1
          ],
          [
           "wallstreetbets",
           0
          ],
          [
           "stocks",
           1
          ],
          [
           "stocks",
           23
          ],
          [
           "StockMarket",
           1
          ],
          [
           "StockMarket",
           1
          ],
          [
           "stocks",
           7
          ],
          [
           "wallstreetbets",
           3
          ],
          [
           "stocks",
           2
          ],
          [
           "stocks",
           1
          ],
          [
           "stocks",
           1
          ],
          [
           "stockstobuytoday",
           1
          ],
          [
           "stockstobuytoday",
           1
          ],
          [
           "stocks",
           1
          ],
          [
           "stocks",
           17
          ],
          [
           "stocks",
           338
          ],
          [
           "wallstreetbets",
           0
          ],
          [
           "wallstreetbets",
           59
          ],
          [
           "wallstreetbets",
           13
          ],
          [
           "StockMarket",
           6
          ],
          [
           "StockMarket",
           2
          ],
          [
           "stockstobuytoday",
           91
          ],
          [
           "stockstobuytoday",
           1
          ],
          [
           "wallstreetbets",
           5
          ],
          [
           "StockMarket",
           1
          ],
          [
           "stockstobuytoday",
           2
          ],
          [
           "StockMarket",
           5
          ],
          [
           "wallstreetbets",
           48
          ],
          [
           "StockMarket",
           1
          ],
          [
           "wallstreetbets",
           1
          ],
          [
           "stocks",
           1
          ],
          [
           "wallstreetbets",
           1
          ],
          [
           "stocks",
           8
          ],
          [
           "wallstreetbets",
           1
          ],
          [
           "stocks",
           1
          ],
          [
           "stocks",
           1
          ],
          [
           "StockMarket",
           2
          ],
          [
           "wallstreetbets",
           1
          ],
          [
           "StockMarket",
           2
          ],
          [
           "wallstreetbets",
           32
          ],
          [
           "stockstobuytoday",
           1
          ],
          [
           "stockstobuytoday",
           2
          ],
          [
           "wallstreetbets",
           2
          ],
          [
           "StockMarket",
           1
          ],
          [
           "StockMarket",
           2
          ],
          [
           "stockstobuytoday",
           2
          ],
          [
           "wallstreetbets",
           2
          ],
          [
           "StockMarket",
           1
          ],
          [
           "wallstreetbets",
           11
          ],
          [
           "stocks",
           1
          ],
          [
           "StockMarket",
           1
          ],
          [
           "wallstreetbets",
           11
          ],
          [
           "StockMarket",
           1
          ],
          [
           "StockMarket",
           1
          ],
          [
           "stockstobuytoday",
           1
          ],
          [
           "stocks",
           1
          ],
          [
           "stockstobuytoday",
           1
          ],
          [
           "StockMarket",
           1
          ],
          [
           "stockstobuytoday",
           11
          ],
          [
           "wallstreetbets",
           1
          ],
          [
           "wallstreetbets",
           36
          ],
          [
           "stocks",
           10
          ],
          [
           "StockMarket",
           0
          ],
          [
           "wallstreetbets",
           3
          ],
          [
           "StockMarket",
           2
          ],
          [
           "stocks",
           1
          ],
          [
           "StockMarket",
           1
          ],
          [
           "stocks",
           1
          ],
          [
           "stocks",
           4
          ],
          [
           "stockstobuytoday",
           8
          ],
          [
           "StockMarket",
           2
          ],
          [
           "stockstobuytoday",
           1
          ],
          [
           "stockstobuytoday",
           1
          ],
          [
           "stockstobuytoday",
           1
          ],
          [
           "stocks",
           -11
          ],
          [
           "stockstobuytoday",
           2
          ],
          [
           "stocks",
           3
          ],
          [
           "stocks",
           3
          ],
          [
           "stocks",
           1
          ],
          [
           "StockMarket",
           11
          ],
          [
           "stocks",
           2
          ],
          [
           "stocks",
           7
          ],
          [
           "stockstobuytoday",
           2
          ],
          [
           "StockMarket",
           1
          ],
          [
           "stocks",
           1
          ],
          [
           "stocks",
           2
          ],
          [
           "wallstreetbets",
           45
          ],
          [
           "stocks",
           -19
          ],
          [
           "StockMarket",
           1
          ],
          [
           "stocks",
           1
          ],
          [
           "wallstreetbets",
           13
          ],
          [
           "StockMarket",
           1
          ],
          [
           "stockstobuytoday",
           0
          ],
          [
           "stockstobuytoday",
           3
          ],
          [
           "stockstobuytoday",
           1
          ],
          [
           "StockMarket",
           3
          ],
          [
           "stocks",
           3
          ],
          [
           "stockstobuytoday",
           1
          ],
          [
           "StockMarket",
           1
          ],
          [
           "stocks",
           11
          ],
          [
           "stockstobuytoday",
           1
          ],
          [
           "StockMarket",
           9
          ],
          [
           "stocks",
           13
          ],
          [
           "StockMarket",
           2
          ],
          [
           "StockMarket",
           1
          ],
          [
           "StockMarket",
           1
          ],
          [
           "stocks",
           2
          ],
          [
           "stocks",
           1
          ],
          [
           "stocks",
           7
          ],
          [
           "stockstobuytoday",
           1
          ],
          [
           "wallstreetbets",
           9
          ],
          [
           "StockMarket",
           1
          ],
          [
           "wallstreetbets",
           10
          ],
          [
           "stocks",
           4
          ],
          [
           "stockstobuytoday",
           13
          ],
          [
           "StockMarket",
           0
          ],
          [
           "StockMarket",
           13
          ],
          [
           "stocks",
           1
          ],
          [
           "StockMarket",
           1
          ],
          [
           "stocks",
           2
          ],
          [
           "stocks",
           1
          ],
          [
           "StockMarket",
           2
          ],
          [
           "StockMarket",
           1
          ],
          [
           "stockstobuytoday",
           34
          ],
          [
           "stocks",
           1
          ],
          [
           "stockstobuytoday",
           1
          ],
          [
           "stocks",
           1
          ],
          [
           "StockMarket",
           1
          ],
          [
           "StockMarket",
           1
          ],
          [
           "stockstobuytoday",
           1
          ],
          [
           "stockstobuytoday",
           46
          ],
          [
           "stockstobuytoday",
           1
          ],
          [
           "stocks",
           2
          ],
          [
           "wallstreetbets",
           1
          ],
          [
           "stockstobuytoday",
           1
          ],
          [
           "stocks",
           5
          ],
          [
           "stockstobuytoday",
           1
          ],
          [
           "stockstobuytoday",
           1
          ],
          [
           "wallstreetbets",
           16
          ],
          [
           "StockMarket",
           1
          ],
          [
           "StockMarket",
           1
          ],
          [
           "stockstobuytoday",
           1
          ],
          [
           "stockstobuytoday",
           1
          ],
          [
           "StockMarket",
           1
          ],
          [
           "stocks",
           6
          ],
          [
           "StockMarket",
           3
          ],
          [
           "stockstobuytoday",
           1
          ],
          [
           "StockMarket",
           1
          ],
          [
           "stocks",
           3
          ],
          [
           "wallstreetbets",
           12
          ],
          [
           "wallstreetbets",
           17
          ],
          [
           "stockstobuytoday",
           1
          ],
          [
           "stocks",
           7
          ],
          [
           "stocks",
           15
          ],
          [
           "wallstreetbets",
           3
          ],
          [
           "StockMarket",
           0
          ],
          [
           "stocks",
           7
          ],
          [
           "wallstreetbets",
           24
          ],
          [
           "StockMarket",
           1
          ],
          [
           "stocks",
           1
          ],
          [
           "stocks",
           2
          ],
          [
           "StockMarket",
           4
          ],
          [
           "StockMarket",
           1
          ],
          [
           "wallstreetbets",
           10
          ],
          [
           "stocks",
           6
          ],
          [
           "stockstobuytoday",
           1
          ],
          [
           "wallstreetbets",
           0
          ],
          [
           "stocks",
           82
          ],
          [
           "StockMarket",
           1
          ],
          [
           "stocks",
           3
          ],
          [
           "stockstobuytoday",
           1
          ],
          [
           "stockstobuytoday",
           9
          ],
          [
           "stocks",
           0
          ],
          [
           "stocks",
           1
          ],
          [
           "stocks",
           1
          ],
          [
           "StockMarket",
           7
          ],
          [
           "wallstreetbets",
           10
          ],
          [
           "stocks",
           1
          ],
          [
           "stockstobuytoday",
           1
          ],
          [
           "stocks",
           1
          ],
          [
           "stockstobuytoday",
           1
          ],
          [
           "stocks",
           1105
          ],
          [
           "StockMarket",
           20
          ],
          [
           "stocks",
           2
          ],
          [
           "StockMarket",
           -2
          ],
          [
           "stockstobuytoday",
           1
          ],
          [
           "wallstreetbets",
           10
          ],
          [
           "StockMarket",
           1
          ],
          [
           "StockMarket",
           25
          ],
          [
           "stocks",
           38
          ],
          [
           "stocks",
           -1
          ],
          [
           "stocks",
           3
          ],
          [
           "StockMarket",
           1
          ],
          [
           "wallstreetbets",
           3
          ],
          [
           "StockMarket",
           1
          ],
          [
           "stocks",
           1
          ],
          [
           "StockMarket",
           1
          ],
          [
           "stockstobuytoday",
           1
          ],
          [
           "stocks",
           1
          ],
          [
           "StockMarket",
           80
          ],
          [
           "StockMarket",
           1
          ],
          [
           "StockMarket",
           1
          ],
          [
           "stocks",
           1
          ],
          [
           "wallstreetbets",
           1
          ],
          [
           "wallstreetbets",
           0
          ],
          [
           "stocks",
           2
          ],
          [
           "wallstreetbets",
           15
          ],
          [
           "stocks",
           1
          ],
          [
           "StockMarket",
           1
          ],
          [
           "wallstreetbets",
           1
          ],
          [
           "StockMarket",
           1
          ],
          [
           "wallstreetbets",
           2
          ],
          [
           "stockstobuytoday",
           6
          ],
          [
           "stocks",
           2
          ],
          [
           "stocks",
           1
          ],
          [
           "stocks",
           1
          ],
          [
           "stocks",
           2
          ],
          [
           "stockstobuytoday",
           1
          ],
          [
           "wallstreetbets",
           11
          ],
          [
           "stockstobuytoday",
           1
          ],
          [
           "stocks",
           16
          ],
          [
           "wallstreetbets",
           16
          ],
          [
           "StockMarket",
           1
          ],
          [
           "wallstreetbets",
           1
          ],
          [
           "stocks",
           28
          ],
          [
           "stockstobuytoday",
           8
          ],
          [
           "StockMarket",
           1
          ],
          [
           "stockstobuytoday",
           1
          ],
          [
           "StockMarket",
           2
          ],
          [
           "wallstreetbets",
           1
          ],
          [
           "StockMarket",
           2
          ],
          [
           "stockstobuytoday",
           1
          ],
          [
           "wallstreetbets",
           8
          ],
          [
           "stockstobuytoday",
           2
          ],
          [
           "stocks",
           1
          ],
          [
           "stocks",
           -74
          ],
          [
           "stocks",
           1
          ],
          [
           "StockMarket",
           1
          ],
          [
           "StockMarket",
           0
          ],
          [
           "StockMarket",
           5
          ],
          [
           "stocks",
           1
          ],
          [
           "StockMarket",
           28
          ],
          [
           "stocks",
           2
          ],
          [
           "wallstreetbets",
           -1
          ],
          [
           "StockMarket",
           2
          ],
          [
           "stocks",
           17
          ],
          [
           "StockMarket",
           1
          ],
          [
           "stockstobuytoday",
           2
          ],
          [
           "StockMarket",
           1
          ],
          [
           "stocks",
           2
          ],
          [
           "StockMarket",
           2
          ],
          [
           "wallstreetbets",
           4
          ],
          [
           "stocks",
           1
          ],
          [
           "StockMarket",
           6
          ],
          [
           "stocks",
           1
          ],
          [
           "stockstobuytoday",
           1
          ],
          [
           "StockMarket",
           25
          ],
          [
           "StockMarket",
           1
          ],
          [
           "stockstobuytoday",
           1
          ],
          [
           "stocks",
           1
          ],
          [
           "StockMarket",
           1
          ],
          [
           "stocks",
           1
          ],
          [
           "StockMarket",
           1
          ],
          [
           "wallstreetbets",
           12
          ],
          [
           "stocks",
           1
          ],
          [
           "stocks",
           3
          ],
          [
           "StockMarket",
           1
          ],
          [
           "stocks",
           2
          ],
          [
           "stocks",
           1
          ],
          [
           "StockMarket",
           2
          ],
          [
           "stocks",
           26
          ],
          [
           "stocks",
           3
          ],
          [
           "stocks",
           1
          ],
          [
           "stocks",
           2
          ],
          [
           "stockstobuytoday",
           131
          ],
          [
           "stocks",
           6
          ],
          [
           "StockMarket",
           9
          ],
          [
           "stockstobuytoday",
           1
          ],
          [
           "stocks",
           -2
          ],
          [
           "wallstreetbets",
           2
          ],
          [
           "stocks",
           1
          ],
          [
           "stocks",
           1
          ],
          [
           "StockMarket",
           -8
          ],
          [
           "StockMarket",
           24
          ],
          [
           "stocks",
           1
          ],
          [
           "stocks",
           1
          ],
          [
           "StockMarket",
           1
          ],
          [
           "StockMarket",
           1
          ],
          [
           "StockMarket",
           1
          ],
          [
           "stocks",
           2
          ],
          [
           "wallstreetbets",
           2
          ],
          [
           "StockMarket",
           1
          ],
          [
           "StockMarket",
           1
          ],
          [
           "StockMarket",
           1
          ],
          [
           "StockMarket",
           1
          ],
          [
           "stockstobuytoday",
           1
          ],
          [
           "StockMarket",
           10
          ],
          [
           "StockMarket",
           2
          ],
          [
           "stocks",
           8
          ],
          [
           "StockMarket",
           1
          ],
          [
           "stockstobuytoday",
           1
          ],
          [
           "StockMarket",
           15
          ],
          [
           "StockMarket",
           1
          ],
          [
           "wallstreetbets",
           1
          ],
          [
           "stocks",
           3
          ],
          [
           "StockMarket",
           -1
          ],
          [
           "wallstreetbets",
           9
          ],
          [
           "StockMarket",
           2
          ],
          [
           "stocks",
           3
          ],
          [
           "stocks",
           1
          ],
          [
           "StockMarket",
           2
          ],
          [
           "StockMarket",
           4
          ],
          [
           "wallstreetbets",
           8
          ],
          [
           "stocks",
           2
          ],
          [
           "stocks",
           1
          ],
          [
           "stocks",
           17
          ],
          [
           "wallstreetbets",
           15
          ],
          [
           "stocks",
           1
          ],
          [
           "StockMarket",
           2
          ],
          [
           "stockstobuytoday",
           2
          ],
          [
           "stockstobuytoday",
           2
          ],
          [
           "stocks",
           1
          ],
          [
           "wallstreetbets",
           1
          ],
          [
           "stocks",
           -6
          ],
          [
           "wallstreetbets",
           8
          ],
          [
           "wallstreetbets",
           1
          ],
          [
           "stocks",
           7
          ],
          [
           "stocks",
           9
          ],
          [
           "wallstreetbets",
           1
          ],
          [
           "StockMarket",
           1
          ],
          [
           "wallstreetbets",
           26
          ],
          [
           "stockstobuytoday",
           1
          ],
          [
           "StockMarket",
           1
          ],
          [
           "StockMarket",
           1
          ],
          [
           "stocks",
           5
          ],
          [
           "StockMarket",
           1
          ],
          [
           "StockMarket",
           1
          ],
          [
           "stocks",
           4
          ],
          [
           "StockMarket",
           1
          ],
          [
           "wallstreetbets",
           12
          ],
          [
           "wallstreetbets",
           0
          ],
          [
           "stocks",
           2
          ],
          [
           "StockMarket",
           1
          ],
          [
           "stocks",
           2
          ],
          [
           "wallstreetbets",
           1
          ],
          [
           "wallstreetbets",
           1
          ],
          [
           "stockstobuytoday",
           1
          ],
          [
           "stocks",
           1
          ],
          [
           "StockMarket",
           2
          ],
          [
           "stockstobuytoday",
           2
          ],
          [
           "stocks",
           1
          ],
          [
           "stocks",
           1
          ],
          [
           "stocks",
           9
          ],
          [
           "stocks",
           1
          ],
          [
           "StockMarket",
           1
          ],
          [
           "StockMarket",
           0
          ],
          [
           "wallstreetbets",
           32
          ],
          [
           "StockMarket",
           1
          ],
          [
           "StockMarket",
           1
          ],
          [
           "stocks",
           3
          ],
          [
           "stocks",
           -4
          ],
          [
           "stockstobuytoday",
           1
          ],
          [
           "stocks",
           49
          ],
          [
           "stocks",
           2
          ],
          [
           "stocks",
           1
          ],
          [
           "stockstobuytoday",
           49
          ],
          [
           "stockstobuytoday",
           2
          ],
          [
           "stockstobuytoday",
           1
          ],
          [
           "StockMarket",
           6
          ],
          [
           "StockMarket",
           1
          ],
          [
           "StockMarket",
           3
          ],
          [
           "stockstobuytoday",
           1
          ],
          [
           "stockstobuytoday",
           1
          ],
          [
           "StockMarket",
           2
          ],
          [
           "StockMarket",
           1
          ],
          [
           "stocks",
           7
          ],
          [
           "wallstreetbets",
           36
          ],
          [
           "stocks",
           1
          ],
          [
           "wallstreetbets",
           0
          ],
          [
           "stocks",
           1
          ],
          [
           "stocks",
           23
          ],
          [
           "stockstobuytoday",
           3
          ],
          [
           "StockMarket",
           1
          ],
          [
           "stocks",
           1
          ],
          [
           "StockMarket",
           1
          ],
          [
           "wallstreetbets",
           1
          ],
          [
           "stocks",
           2
          ],
          [
           "stockstobuytoday",
           1
          ],
          [
           "wallstreetbets",
           46
          ],
          [
           "wallstreetbets",
           1
          ],
          [
           "stocks",
           6
          ],
          [
           "stocks",
           -2
          ],
          [
           "stocks",
           1
          ],
          [
           "wallstreetbets",
           0
          ],
          [
           "StockMarket",
           57
          ],
          [
           "stocks",
           121
          ],
          [
           "stockstobuytoday",
           1
          ],
          [
           "stocks",
           4
          ],
          [
           "StockMarket",
           1
          ],
          [
           "wallstreetbets",
           2
          ],
          [
           "stocks",
           5
          ],
          [
           "StockMarket",
           8
          ],
          [
           "StockMarket",
           19
          ],
          [
           "wallstreetbets",
           26
          ],
          [
           "stocks",
           1
          ],
          [
           "stocks",
           1
          ],
          [
           "wallstreetbets",
           1
          ],
          [
           "stocks",
           4
          ],
          [
           "StockMarket",
           62
          ],
          [
           "wallstreetbets",
           1
          ],
          [
           "StockMarket",
           2
          ],
          [
           "stocks",
           1
          ],
          [
           "wallstreetbets",
           11
          ],
          [
           "stocks",
           3
          ],
          [
           "StockMarket",
           1
          ],
          [
           "wallstreetbets",
           2
          ],
          [
           "stocks",
           1
          ],
          [
           "stocks",
           1
          ],
          [
           "stocks",
           2
          ],
          [
           "wallstreetbets",
           16
          ],
          [
           "stockstobuytoday",
           1
          ],
          [
           "StockMarket",
           1
          ],
          [
           "StockMarket",
           2
          ],
          [
           "StockMarket",
           1
          ],
          [
           "wallstreetbets",
           1
          ],
          [
           "stockstobuytoday",
           1
          ],
          [
           "stockstobuytoday",
           1
          ],
          [
           "stocks",
           1
          ],
          [
           "wallstreetbets",
           -6
          ],
          [
           "stocks",
           1
          ],
          [
           "StockMarket",
           1
          ],
          [
           "stocks",
           2
          ],
          [
           "stockstobuytoday",
           1
          ],
          [
           "wallstreetbets",
           1
          ],
          [
           "wallstreetbets",
           28
          ],
          [
           "StockMarket",
           1
          ],
          [
           "StockMarket",
           2
          ],
          [
           "stockstobuytoday",
           2
          ],
          [
           "stocks",
           276
          ],
          [
           "StockMarket",
           2
          ],
          [
           "StockMarket",
           1
          ],
          [
           "StockMarket",
           3
          ],
          [
           "stocks",
           2
          ],
          [
           "StockMarket",
           1
          ],
          [
           "wallstreetbets",
           20
          ],
          [
           "StockMarket",
           0
          ],
          [
           "stocks",
           2
          ],
          [
           "stockstobuytoday",
           2
          ],
          [
           "wallstreetbets",
           10
          ],
          [
           "stocks",
           2
          ],
          [
           "StockMarket",
           1
          ],
          [
           "wallstreetbets",
           9
          ],
          [
           "StockMarket",
           1
          ],
          [
           "StockMarket",
           1
          ],
          [
           "stockstobuytoday",
           1
          ],
          [
           "wallstreetbets",
           1
          ],
          [
           "StockMarket",
           1
          ],
          [
           "StockMarket",
           1
          ],
          [
           "wallstreetbets",
           12
          ],
          [
           "StockMarket",
           55
          ],
          [
           "stocks",
           0
          ],
          [
           "StockMarket",
           1
          ],
          [
           "StockMarket",
           2
          ],
          [
           "wallstreetbets",
           1
          ],
          [
           "wallstreetbets",
           1
          ],
          [
           "StockMarket",
           13
          ],
          [
           "StockMarket",
           5
          ],
          [
           "stocks",
           1
          ],
          [
           "StockMarket",
           1
          ],
          [
           "stockstobuytoday",
           2
          ],
          [
           "wallstreetbets",
           3
          ],
          [
           "stocks",
           2
          ],
          [
           "stocks",
           4
          ],
          [
           "stocks",
           1
          ],
          [
           "stocks",
           8
          ],
          [
           "stocks",
           3
          ],
          [
           "stocks",
           1
          ],
          [
           "wallstreetbets",
           2
          ],
          [
           "StockMarket",
           1
          ],
          [
           "stockstobuytoday",
           1
          ],
          [
           "stocks",
           1
          ],
          [
           "stocks",
           1
          ],
          [
           "stocks",
           4
          ],
          [
           "StockMarket",
           2
          ],
          [
           "StockMarket",
           2
          ],
          [
           "StockMarket",
           10
          ],
          [
           "wallstreetbets",
           1
          ],
          [
           "stocks",
           5
          ],
          [
           "stocks",
           1
          ],
          [
           "stocks",
           1
          ],
          [
           "stocks",
           2
          ],
          [
           "stocks",
           16
          ],
          [
           "wallstreetbets",
           18
          ],
          [
           "StockMarket",
           1
          ],
          [
           "StockMarket",
           1
          ],
          [
           "stocks",
           1
          ],
          [
           "StockMarket",
           4
          ],
          [
           "stocks",
           1
          ],
          [
           "StockMarket",
           1
          ],
          [
           "StockMarket",
           1
          ],
          [
           "stockstobuytoday",
           3
          ],
          [
           "stocks",
           1
          ],
          [
           "stocks",
           12
          ],
          [
           "stockstobuytoday",
           1
          ],
          [
           "stocks",
           1
          ],
          [
           "stocks",
           1
          ],
          [
           "stocks",
           1
          ],
          [
           "stocks",
           4
          ],
          [
           "stockstobuytoday",
           1
          ],
          [
           "StockMarket",
           1
          ],
          [
           "StockMarket",
           2
          ],
          [
           "StockMarket",
           1
          ],
          [
           "stockstobuytoday",
           1
          ],
          [
           "StockMarket",
           2
          ],
          [
           "wallstreetbets",
           10
          ],
          [
           "wallstreetbets",
           1
          ]
         ],
         "hovertemplate": "polarity=%{x}<br>subjectivity=%{y}<br>subreddit=%{customdata[0]}<br>upvotes=%{customdata[1]}<br>label=%{marker.color}<extra></extra>",
         "legendgroup": "",
         "marker": {
          "color": {
           "bdata": "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",
           "dtype": "f8"
          },
          "coloraxis": "coloraxis",
          "symbol": "circle"
         },
         "mode": "markers",
         "name": "",
         "orientation": "v",
         "showlegend": false,
         "type": "scatter",
         "x": {
          "bdata": "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",
          "dtype": "f8"
         },
         "xaxis": "x",
         "y": {
          "bdata": "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",
          "dtype": "f8"
         },
         "yaxis": "y"
        }
       ],
       "layout": {
        "coloraxis": {
         "colorbar": {
          "title": {
           "text": "label"
          }
         },
         "colorscale": [
          [
           0,
           "#0d0887"
          ],
          [
           0.1111111111111111,
           "#46039f"
          ],
          [
           0.2222222222222222,
           "#7201a8"
          ],
          [
           0.3333333333333333,
           "#9c179e"
          ],
          [
           0.4444444444444444,
           "#bd3786"
          ],
          [
           0.5555555555555556,
           "#d8576b"
          ],
          [
           0.6666666666666666,
           "#ed7953"
          ],
          [
           0.7777777777777778,
           "#fb9f3a"
          ],
          [
           0.8888888888888888,
           "#fdca26"
          ],
          [
           1,
           "#f0f921"
          ]
         ]
        },
        "legend": {
         "tracegroupgap": 0
        },
        "template": {
         "data": {
          "bar": [
           {
            "error_x": {
             "color": "#2a3f5f"
            },
            "error_y": {
             "color": "#2a3f5f"
            },
            "marker": {
             "line": {
              "color": "#E5ECF6",
              "width": 0.5
             },
             "pattern": {
              "fillmode": "overlay",
              "size": 10,
              "solidity": 0.2
             }
            },
            "type": "bar"
           }
          ],
          "barpolar": [
           {
            "marker": {
             "line": {
              "color": "#E5ECF6",
              "width": 0.5
             },
             "pattern": {
              "fillmode": "overlay",
              "size": 10,
              "solidity": 0.2
             }
            },
            "type": "barpolar"
           }
          ],
          "carpet": [
           {
            "aaxis": {
             "endlinecolor": "#2a3f5f",
             "gridcolor": "white",
             "linecolor": "white",
             "minorgridcolor": "white",
             "startlinecolor": "#2a3f5f"
            },
            "baxis": {
             "endlinecolor": "#2a3f5f",
             "gridcolor": "white",
             "linecolor": "white",
             "minorgridcolor": "white",
             "startlinecolor": "#2a3f5f"
            },
            "type": "carpet"
           }
          ],
          "choropleth": [
           {
            "colorbar": {
             "outlinewidth": 0,
             "ticks": ""
            },
            "type": "choropleth"
           }
          ],
          "contour": [
           {
            "colorbar": {
             "outlinewidth": 0,
             "ticks": ""
            },
            "colorscale": [
             [
              0,
              "#0d0887"
             ],
             [
              0.1111111111111111,
              "#46039f"
             ],
             [
              0.2222222222222222,
              "#7201a8"
             ],
             [
              0.3333333333333333,
              "#9c179e"
             ],
             [
              0.4444444444444444,
              "#bd3786"
             ],
             [
              0.5555555555555556,
              "#d8576b"
             ],
             [
              0.6666666666666666,
              "#ed7953"
             ],
             [
              0.7777777777777778,
              "#fb9f3a"
             ],
             [
              0.8888888888888888,
              "#fdca26"
             ],
             [
              1,
              "#f0f921"
             ]
            ],
            "type": "contour"
           }
          ],
          "contourcarpet": [
           {
            "colorbar": {
             "outlinewidth": 0,
             "ticks": ""
            },
            "type": "contourcarpet"
           }
          ],
          "heatmap": [
           {
            "colorbar": {
             "outlinewidth": 0,
             "ticks": ""
            },
            "colorscale": [
             [
              0,
              "#0d0887"
             ],
             [
              0.1111111111111111,
              "#46039f"
             ],
             [
              0.2222222222222222,
              "#7201a8"
             ],
             [
              0.3333333333333333,
              "#9c179e"
             ],
             [
              0.4444444444444444,
              "#bd3786"
             ],
             [
              0.5555555555555556,
              "#d8576b"
             ],
             [
              0.6666666666666666,
              "#ed7953"
             ],
             [
              0.7777777777777778,
              "#fb9f3a"
             ],
             [
              0.8888888888888888,
              "#fdca26"
             ],
             [
              1,
              "#f0f921"
             ]
            ],
            "type": "heatmap"
           }
          ],
          "histogram": [
           {
            "marker": {
             "pattern": {
              "fillmode": "overlay",
              "size": 10,
              "solidity": 0.2
             }
            },
            "type": "histogram"
           }
          ],
          "histogram2d": [
           {
            "colorbar": {
             "outlinewidth": 0,
             "ticks": ""
            },
            "colorscale": [
             [
              0,
              "#0d0887"
             ],
             [
              0.1111111111111111,
              "#46039f"
             ],
             [
              0.2222222222222222,
              "#7201a8"
             ],
             [
              0.3333333333333333,
              "#9c179e"
             ],
             [
              0.4444444444444444,
              "#bd3786"
             ],
             [
              0.5555555555555556,
              "#d8576b"
             ],
             [
              0.6666666666666666,
              "#ed7953"
             ],
             [
              0.7777777777777778,
              "#fb9f3a"
             ],
             [
              0.8888888888888888,
              "#fdca26"
             ],
             [
              1,
              "#f0f921"
             ]
            ],
            "type": "histogram2d"
           }
          ],
          "histogram2dcontour": [
           {
            "colorbar": {
             "outlinewidth": 0,
             "ticks": ""
            },
            "colorscale": [
             [
              0,
              "#0d0887"
             ],
             [
              0.1111111111111111,
              "#46039f"
             ],
             [
              0.2222222222222222,
              "#7201a8"
             ],
             [
              0.3333333333333333,
              "#9c179e"
             ],
             [
              0.4444444444444444,
              "#bd3786"
             ],
             [
              0.5555555555555556,
              "#d8576b"
             ],
             [
              0.6666666666666666,
              "#ed7953"
             ],
             [
              0.7777777777777778,
              "#fb9f3a"
             ],
             [
              0.8888888888888888,
              "#fdca26"
             ],
             [
              1,
              "#f0f921"
             ]
            ],
            "type": "histogram2dcontour"
           }
          ],
          "mesh3d": [
           {
            "colorbar": {
             "outlinewidth": 0,
             "ticks": ""
            },
            "type": "mesh3d"
           }
          ],
          "parcoords": [
           {
            "line": {
             "colorbar": {
              "outlinewidth": 0,
              "ticks": ""
             }
            },
            "type": "parcoords"
           }
          ],
          "pie": [
           {
            "automargin": true,
            "type": "pie"
           }
          ],
          "scatter": [
           {
            "fillpattern": {
             "fillmode": "overlay",
             "size": 10,
             "solidity": 0.2
            },
            "type": "scatter"
           }
          ],
          "scatter3d": [
           {
            "line": {
             "colorbar": {
              "outlinewidth": 0,
              "ticks": ""
             }
            },
            "marker": {
             "colorbar": {
              "outlinewidth": 0,
              "ticks": ""
             }
            },
            "type": "scatter3d"
           }
          ],
          "scattercarpet": [
           {
            "marker": {
             "colorbar": {
              "outlinewidth": 0,
              "ticks": ""
             }
            },
            "type": "scattercarpet"
           }
          ],
          "scattergeo": [
           {
            "marker": {
             "colorbar": {
              "outlinewidth": 0,
              "ticks": ""
             }
            },
            "type": "scattergeo"
           }
          ],
          "scattergl": [
           {
            "marker": {
             "colorbar": {
              "outlinewidth": 0,
              "ticks": ""
             }
            },
            "type": "scattergl"
           }
          ],
          "scattermap": [
           {
            "marker": {
             "colorbar": {
              "outlinewidth": 0,
              "ticks": ""
             }
            },
            "type": "scattermap"
           }
          ],
          "scattermapbox": [
           {
            "marker": {
             "colorbar": {
              "outlinewidth": 0,
              "ticks": ""
             }
            },
            "type": "scattermapbox"
           }
          ],
          "scatterpolar": [
           {
            "marker": {
             "colorbar": {
              "outlinewidth": 0,
              "ticks": ""
             }
            },
            "type": "scatterpolar"
           }
          ],
          "scatterpolargl": [
           {
            "marker": {
             "colorbar": {
              "outlinewidth": 0,
              "ticks": ""
             }
            },
            "type": "scatterpolargl"
           }
          ],
          "scatterternary": [
           {
            "marker": {
             "colorbar": {
              "outlinewidth": 0,
              "ticks": ""
             }
            },
            "type": "scatterternary"
           }
          ],
          "surface": [
           {
            "colorbar": {
             "outlinewidth": 0,
             "ticks": ""
            },
            "colorscale": [
             [
              0,
              "#0d0887"
             ],
             [
              0.1111111111111111,
              "#46039f"
             ],
             [
              0.2222222222222222,
              "#7201a8"
             ],
             [
              0.3333333333333333,
              "#9c179e"
             ],
             [
              0.4444444444444444,
              "#bd3786"
             ],
             [
              0.5555555555555556,
              "#d8576b"
             ],
             [
              0.6666666666666666,
              "#ed7953"
             ],
             [
              0.7777777777777778,
              "#fb9f3a"
             ],
             [
              0.8888888888888888,
              "#fdca26"
             ],
             [
              1,
              "#f0f921"
             ]
            ],
            "type": "surface"
           }
          ],
          "table": [
           {
            "cells": {
             "fill": {
              "color": "#EBF0F8"
             },
             "line": {
              "color": "white"
             }
            },
            "header": {
             "fill": {
              "color": "#C8D4E3"
             },
             "line": {
              "color": "white"
             }
            },
            "type": "table"
           }
          ]
         },
         "layout": {
          "annotationdefaults": {
           "arrowcolor": "#2a3f5f",
           "arrowhead": 0,
           "arrowwidth": 1
          },
          "autotypenumbers": "strict",
          "coloraxis": {
           "colorbar": {
            "outlinewidth": 0,
            "ticks": ""
           }
          },
          "colorscale": {
           "diverging": [
            [
             0,
             "#8e0152"
            ],
            [
             0.1,
             "#c51b7d"
            ],
            [
             0.2,
             "#de77ae"
            ],
            [
             0.3,
             "#f1b6da"
            ],
            [
             0.4,
             "#fde0ef"
            ],
            [
             0.5,
             "#f7f7f7"
            ],
            [
             0.6,
             "#e6f5d0"
            ],
            [
             0.7,
             "#b8e186"
            ],
            [
             0.8,
             "#7fbc41"
            ],
            [
             0.9,
             "#4d9221"
            ],
            [
             1,
             "#276419"
            ]
           ],
           "sequential": [
            [
             0,
             "#0d0887"
            ],
            [
             0.1111111111111111,
             "#46039f"
            ],
            [
             0.2222222222222222,
             "#7201a8"
            ],
            [
             0.3333333333333333,
             "#9c179e"
            ],
            [
             0.4444444444444444,
             "#bd3786"
            ],
            [
             0.5555555555555556,
             "#d8576b"
            ],
            [
             0.6666666666666666,
             "#ed7953"
            ],
            [
             0.7777777777777778,
             "#fb9f3a"
            ],
            [
             0.8888888888888888,
             "#fdca26"
            ],
            [
             1,
             "#f0f921"
            ]
           ],
           "sequentialminus": [
            [
             0,
             "#0d0887"
            ],
            [
             0.1111111111111111,
             "#46039f"
            ],
            [
             0.2222222222222222,
             "#7201a8"
            ],
            [
             0.3333333333333333,
             "#9c179e"
            ],
            [
             0.4444444444444444,
             "#bd3786"
            ],
            [
             0.5555555555555556,
             "#d8576b"
            ],
            [
             0.6666666666666666,
             "#ed7953"
            ],
            [
             0.7777777777777778,
             "#fb9f3a"
            ],
            [
             0.8888888888888888,
             "#fdca26"
            ],
            [
             1,
             "#f0f921"
            ]
           ]
          },
          "colorway": [
           "#636efa",
           "#EF553B",
           "#00cc96",
           "#ab63fa",
           "#FFA15A",
           "#19d3f3",
           "#FF6692",
           "#B6E880",
           "#FF97FF",
           "#FECB52"
          ],
          "font": {
           "color": "#2a3f5f"
          },
          "geo": {
           "bgcolor": "white",
           "lakecolor": "white",
           "landcolor": "#E5ECF6",
           "showlakes": true,
           "showland": true,
           "subunitcolor": "white"
          },
          "hoverlabel": {
           "align": "left"
          },
          "hovermode": "closest",
          "mapbox": {
           "style": "light"
          },
          "paper_bgcolor": "white",
          "plot_bgcolor": "#E5ECF6",
          "polar": {
           "angularaxis": {
            "gridcolor": "white",
            "linecolor": "white",
            "ticks": ""
           },
           "bgcolor": "#E5ECF6",
           "radialaxis": {
            "gridcolor": "white",
            "linecolor": "white",
            "ticks": ""
           }
          },
          "scene": {
           "xaxis": {
            "backgroundcolor": "#E5ECF6",
            "gridcolor": "white",
            "gridwidth": 2,
            "linecolor": "white",
            "showbackground": true,
            "ticks": "",
            "zerolinecolor": "white"
           },
           "yaxis": {
            "backgroundcolor": "#E5ECF6",
            "gridcolor": "white",
            "gridwidth": 2,
            "linecolor": "white",
            "showbackground": true,
            "ticks": "",
            "zerolinecolor": "white"
           },
           "zaxis": {
            "backgroundcolor": "#E5ECF6",
            "gridcolor": "white",
            "gridwidth": 2,
            "linecolor": "white",
            "showbackground": true,
            "ticks": "",
            "zerolinecolor": "white"
           }
          },
          "shapedefaults": {
           "line": {
            "color": "#2a3f5f"
           }
          },
          "ternary": {
           "aaxis": {
            "gridcolor": "white",
            "linecolor": "white",
            "ticks": ""
           },
           "baxis": {
            "gridcolor": "white",
            "linecolor": "white",
            "ticks": ""
           },
           "bgcolor": "#E5ECF6",
           "caxis": {
            "gridcolor": "white",
            "linecolor": "white",
            "ticks": ""
           }
          },
          "title": {
           "x": 0.05
          },
          "xaxis": {
           "automargin": true,
           "gridcolor": "white",
           "linecolor": "white",
           "ticks": "",
           "title": {
            "standoff": 15
           },
           "zerolinecolor": "white",
           "zerolinewidth": 2
          },
          "yaxis": {
           "automargin": true,
           "gridcolor": "white",
           "linecolor": "white",
           "ticks": "",
           "title": {
            "standoff": 15
           },
           "zerolinecolor": "white",
           "zerolinewidth": 2
          }
         }
        },
        "title": {
         "text": "Polarity vs Subjectivity by Sentiment"
        },
        "xaxis": {
         "anchor": "y",
         "domain": [
          0,
          1
         ],
         "title": {
          "text": "polarity"
         }
        },
        "yaxis": {
         "anchor": "x",
         "domain": [
          0,
          1
         ],
         "title": {
          "text": "subjectivity"
         }
        }
       }
      }
     },
     "metadata": {},
     "output_type": "display_data"
    }
   ],
   "source": [
    "# Polarity vs Subjectivity\n",
    "fig3 = px.scatter(\n",
    "    df, x='polarity', y='subjectivity', color='label',\n",
    "    title=\"Polarity vs Subjectivity by Sentiment\",\n",
    "    color_discrete_map={-1.0: \"red\", 0.0: \"gray\", 1.0: \"green\"},\n",
    "    hover_data=['subreddit', 'upvotes']\n",
    ")\n",
    "fig3.show()"
   ]
  },
  {
   "cell_type": "markdown",
   "metadata": {},
   "source": [
    "The fourth graph is a **histogram** of **Posting Frequency by Hour and Sentiment**.\n",
    "<br>\n",
    "This graph is used to find out: **What hours have the most posts? Do certain times show more positive or negative sentiment?**"
   ]
  },
  {
   "cell_type": "code",
   "execution_count": null,
   "metadata": {},
   "outputs": [
    {
     "data": {
      "application/vnd.plotly.v1+json": {
       "config": {
        "plotlyServerURL": "https://plot.ly"
       },
       "data": [
        {
         "bingroup": "x",
         "hovertemplate": "label=-1.0<br>hour=%{x}<br>count=%{y}<extra></extra>",
         "legendgroup": "-1.0",
         "marker": {
          "color": "red",
          "pattern": {
           "shape": ""
          }
         },
         "name": "-1.0",
         "nbinsx": 24,
         "orientation": "v",
         "showlegend": true,
         "type": "histogram",
         "x": {
          "bdata": "EQAAAA4AAAAMAAAABQAAABAAAAAQAAAADgAAAAQAAAANAAAAEwAAAAEAAAAMAAAADgAAAA8AAAAPAAAADwAAABAAAAAQAAAADwAAAA8AAAAQAAAAAwAAAAoAAAAPAAAAEAAAAA8AAAALAAAAEQAAAAIAAAAOAAAABwAAAAIAAAAPAAAADwAAAAIAAAAOAAAADQAAABAAAAAOAAAACAAAAA4AAAAOAAAADwAAAA8AAAANAAAADwAAAAUAAAAPAAAADQAAAA4AAAAPAAAACwAAAAoAAAAHAAAADQAAAAwAAAAPAAAAFAAAABUAAAAIAAAAFgAAAA0AAAAPAAAABAAAAA4AAAAEAAAADgAAAA4AAAAQAAAACwAAAAYAAAAEAAAAFgAAAA8AAAAWAAAAEAAAABMAAAACAAAAFQAAAAUAAAAPAAAADQAAAAIAAAAPAAAAFAAAAA4AAAAQAAAAAwAAAA0AAAAQAAAAAQAAAA8AAAAIAAAAEwAAAA4AAAAPAAAAEAAAAA4AAAAPAAAADwAAAAEAAAAPAAAADQAAABAAAAAOAAAADwAAABAAAAAQAAAABAAAABEAAAANAAAADQAAAA8AAAAOAAAADwAAABAAAAAPAAAADwAAAAAAAAAFAAAADAAAAA8AAAANAAAACwAAABEAAAAPAAAAEQAAABAAAAACAAAADwAAAA4AAAAKAAAADgAAAA8AAAAOAAAAEQAAAA8AAAARAAAAEAAAAAoAAAAPAAAABQAAAAEAAAADAAAAAwAAAAUAAAAOAAAAEAAAAAsAAAAOAAAAEAAAABcAAAAOAAAACwAAAA8AAAAOAAAADQAAAAsAAAAOAAAAEAAAABcAAAAKAAAACAAAAA4AAAAPAAAADwAAABQAAAAQAAAADwAAAA0AAAAPAAAADQAAAAAAAAANAAAADAAAABAAAAAVAAAACQAAAAUAAAAPAAAAFQAAAA8AAAAOAAAABwAAAA8AAAARAAAAAwAAAA8AAAAGAAAAFAAAABAAAAAUAAAAAwAAAA0AAAAMAAAADgAAAA0AAAAEAAAACgAAAA8AAAAOAAAADwAAAAMAAAAPAAAAFgAAAAkAAAAPAAAAAwAAAA8AAAAJAAAAAgAAAA0AAAAPAAAADwAAAAUAAAANAAAABAAAAA8AAAAQAAAAEQAAAA0AAAAPAAAADQAAAA4AAAAPAAAADgAAAAwAAAAQAAAADgAAAAkAAAANAAAADQAAABAAAAAQAAAADgAAAAwAAAAMAAAADgAAAA4AAAAPAAAADwAAAAYAAAAJAAAADAAAAA4AAAAXAAAACQAAAAAAAAAXAAAADwAAABcAAAAMAAAADwAAAAIAAAASAAAAEwAAAA8AAAAPAAAABQAAAA0AAAAJAAAADQAAAAkAAAAPAAAADgAAAA8AAAALAAAABAAAAA8AAAARAAAADAAAAA8AAAARAAAADAAAAA4AAAABAAAAEQAAAAwAAAAKAAAADwAAABEAAAAPAAAAEAAAABAAAAAXAAAAFAAAAAcAAAAQAAAACAAAABQAAAAMAAAAFgAAAA8AAAAFAAAAAwAAAA8AAAAOAAAADgAAAAMAAAAJAAAADwAAAA8AAAAJAAAABAAAAAUAAAAOAAAADwAAAA8AAAAVAAAAEAAAABMAAAALAAAADQAAABEAAAAUAAAA",
          "dtype": "i4"
         },
         "xaxis": "x",
         "yaxis": "y"
        },
        {
         "bingroup": "x",
         "hovertemplate": "label=0.0<br>hour=%{x}<br>count=%{y}<extra></extra>",
         "legendgroup": "0.0",
         "marker": {
          "color": "gray",
          "pattern": {
           "shape": ""
          }
         },
         "name": "0.0",
         "nbinsx": 24,
         "orientation": "v",
         "showlegend": true,
         "type": "histogram",
         "x": {
          "bdata": "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",
          "dtype": "i4"
         },
         "xaxis": "x",
         "yaxis": "y"
        },
        {
         "bingroup": "x",
         "hovertemplate": "label=1.0<br>hour=%{x}<br>count=%{y}<extra></extra>",
         "legendgroup": "1.0",
         "marker": {
          "color": "green",
          "pattern": {
           "shape": ""
          }
         },
         "name": "1.0",
         "nbinsx": 24,
         "orientation": "v",
         "showlegend": true,
         "type": "histogram",
         "x": {
          "bdata": "EQAAAA8AAAAQAAAADQAAAAIAAAAOAAAAAgAAAA8AAAAPAAAADwAAABEAAAAUAAAAFwAAABMAAAAOAAAADwAAABMAAAAPAAAAAgAAAA0AAAAPAAAAAQAAAA4AAAAPAAAAAwAAAAwAAAAVAAAADQAAAAwAAAACAAAADgAAAA4AAAANAAAAAAAAABUAAAAQAAAAEAAAAA8AAAAJAAAADgAAAA4AAAASAAAAFAAAAAwAAAASAAAACwAAABAAAAABAAAAAAAAAA4AAAAPAAAADQAAABQAAAANAAAAEQAAABUAAAAOAAAACAAAAAEAAAAXAAAAEgAAABYAAAAPAAAADwAAAA8AAAAKAAAADgAAAA4AAAAQAAAAAQAAAAMAAAAJAAAADwAAAAgAAAAUAAAAEAAAAAoAAAAJAAAADQAAABQAAAARAAAADAAAAA0AAAAOAAAABAAAAAEAAAAWAAAADAAAABAAAAAQAAAADgAAAA4AAAAPAAAACQAAAAoAAAAOAAAADgAAABcAAAAEAAAADwAAABAAAAADAAAADgAAAA8AAAAPAAAADgAAABAAAAAEAAAA",
          "dtype": "i4"
         },
         "xaxis": "x",
         "yaxis": "y"
        }
       ],
       "layout": {
        "barmode": "stack",
        "legend": {
         "title": {
          "text": "label"
         },
         "tracegroupgap": 0
        },
        "template": {
         "data": {
          "bar": [
           {
            "error_x": {
             "color": "#2a3f5f"
            },
            "error_y": {
             "color": "#2a3f5f"
            },
            "marker": {
             "line": {
              "color": "#E5ECF6",
              "width": 0.5
             },
             "pattern": {
              "fillmode": "overlay",
              "size": 10,
              "solidity": 0.2
             }
            },
            "type": "bar"
           }
          ],
          "barpolar": [
           {
            "marker": {
             "line": {
              "color": "#E5ECF6",
              "width": 0.5
             },
             "pattern": {
              "fillmode": "overlay",
              "size": 10,
              "solidity": 0.2
             }
            },
            "type": "barpolar"
           }
          ],
          "carpet": [
           {
            "aaxis": {
             "endlinecolor": "#2a3f5f",
             "gridcolor": "white",
             "linecolor": "white",
             "minorgridcolor": "white",
             "startlinecolor": "#2a3f5f"
            },
            "baxis": {
             "endlinecolor": "#2a3f5f",
             "gridcolor": "white",
             "linecolor": "white",
             "minorgridcolor": "white",
             "startlinecolor": "#2a3f5f"
            },
            "type": "carpet"
           }
          ],
          "choropleth": [
           {
            "colorbar": {
             "outlinewidth": 0,
             "ticks": ""
            },
            "type": "choropleth"
           }
          ],
          "contour": [
           {
            "colorbar": {
             "outlinewidth": 0,
             "ticks": ""
            },
            "colorscale": [
             [
              0,
              "#0d0887"
             ],
             [
              0.1111111111111111,
              "#46039f"
             ],
             [
              0.2222222222222222,
              "#7201a8"
             ],
             [
              0.3333333333333333,
              "#9c179e"
             ],
             [
              0.4444444444444444,
              "#bd3786"
             ],
             [
              0.5555555555555556,
              "#d8576b"
             ],
             [
              0.6666666666666666,
              "#ed7953"
             ],
             [
              0.7777777777777778,
              "#fb9f3a"
             ],
             [
              0.8888888888888888,
              "#fdca26"
             ],
             [
              1,
              "#f0f921"
             ]
            ],
            "type": "contour"
           }
          ],
          "contourcarpet": [
           {
            "colorbar": {
             "outlinewidth": 0,
             "ticks": ""
            },
            "type": "contourcarpet"
           }
          ],
          "heatmap": [
           {
            "colorbar": {
             "outlinewidth": 0,
             "ticks": ""
            },
            "colorscale": [
             [
              0,
              "#0d0887"
             ],
             [
              0.1111111111111111,
              "#46039f"
             ],
             [
              0.2222222222222222,
              "#7201a8"
             ],
             [
              0.3333333333333333,
              "#9c179e"
             ],
             [
              0.4444444444444444,
              "#bd3786"
             ],
             [
              0.5555555555555556,
              "#d8576b"
             ],
             [
              0.6666666666666666,
              "#ed7953"
             ],
             [
              0.7777777777777778,
              "#fb9f3a"
             ],
             [
              0.8888888888888888,
              "#fdca26"
             ],
             [
              1,
              "#f0f921"
             ]
            ],
            "type": "heatmap"
           }
          ],
          "histogram": [
           {
            "marker": {
             "pattern": {
              "fillmode": "overlay",
              "size": 10,
              "solidity": 0.2
             }
            },
            "type": "histogram"
           }
          ],
          "histogram2d": [
           {
            "colorbar": {
             "outlinewidth": 0,
             "ticks": ""
            },
            "colorscale": [
             [
              0,
              "#0d0887"
             ],
             [
              0.1111111111111111,
              "#46039f"
             ],
             [
              0.2222222222222222,
              "#7201a8"
             ],
             [
              0.3333333333333333,
              "#9c179e"
             ],
             [
              0.4444444444444444,
              "#bd3786"
             ],
             [
              0.5555555555555556,
              "#d8576b"
             ],
             [
              0.6666666666666666,
              "#ed7953"
             ],
             [
              0.7777777777777778,
              "#fb9f3a"
             ],
             [
              0.8888888888888888,
              "#fdca26"
             ],
             [
              1,
              "#f0f921"
             ]
            ],
            "type": "histogram2d"
           }
          ],
          "histogram2dcontour": [
           {
            "colorbar": {
             "outlinewidth": 0,
             "ticks": ""
            },
            "colorscale": [
             [
              0,
              "#0d0887"
             ],
             [
              0.1111111111111111,
              "#46039f"
             ],
             [
              0.2222222222222222,
              "#7201a8"
             ],
             [
              0.3333333333333333,
              "#9c179e"
             ],
             [
              0.4444444444444444,
              "#bd3786"
             ],
             [
              0.5555555555555556,
              "#d8576b"
             ],
             [
              0.6666666666666666,
              "#ed7953"
             ],
             [
              0.7777777777777778,
              "#fb9f3a"
             ],
             [
              0.8888888888888888,
              "#fdca26"
             ],
             [
              1,
              "#f0f921"
             ]
            ],
            "type": "histogram2dcontour"
           }
          ],
          "mesh3d": [
           {
            "colorbar": {
             "outlinewidth": 0,
             "ticks": ""
            },
            "type": "mesh3d"
           }
          ],
          "parcoords": [
           {
            "line": {
             "colorbar": {
              "outlinewidth": 0,
              "ticks": ""
             }
            },
            "type": "parcoords"
           }
          ],
          "pie": [
           {
            "automargin": true,
            "type": "pie"
           }
          ],
          "scatter": [
           {
            "fillpattern": {
             "fillmode": "overlay",
             "size": 10,
             "solidity": 0.2
            },
            "type": "scatter"
           }
          ],
          "scatter3d": [
           {
            "line": {
             "colorbar": {
              "outlinewidth": 0,
              "ticks": ""
             }
            },
            "marker": {
             "colorbar": {
              "outlinewidth": 0,
              "ticks": ""
             }
            },
            "type": "scatter3d"
           }
          ],
          "scattercarpet": [
           {
            "marker": {
             "colorbar": {
              "outlinewidth": 0,
              "ticks": ""
             }
            },
            "type": "scattercarpet"
           }
          ],
          "scattergeo": [
           {
            "marker": {
             "colorbar": {
              "outlinewidth": 0,
              "ticks": ""
             }
            },
            "type": "scattergeo"
           }
          ],
          "scattergl": [
           {
            "marker": {
             "colorbar": {
              "outlinewidth": 0,
              "ticks": ""
             }
            },
            "type": "scattergl"
           }
          ],
          "scattermap": [
           {
            "marker": {
             "colorbar": {
              "outlinewidth": 0,
              "ticks": ""
             }
            },
            "type": "scattermap"
           }
          ],
          "scattermapbox": [
           {
            "marker": {
             "colorbar": {
              "outlinewidth": 0,
              "ticks": ""
             }
            },
            "type": "scattermapbox"
           }
          ],
          "scatterpolar": [
           {
            "marker": {
             "colorbar": {
              "outlinewidth": 0,
              "ticks": ""
             }
            },
            "type": "scatterpolar"
           }
          ],
          "scatterpolargl": [
           {
            "marker": {
             "colorbar": {
              "outlinewidth": 0,
              "ticks": ""
             }
            },
            "type": "scatterpolargl"
           }
          ],
          "scatterternary": [
           {
            "marker": {
             "colorbar": {
              "outlinewidth": 0,
              "ticks": ""
             }
            },
            "type": "scatterternary"
           }
          ],
          "surface": [
           {
            "colorbar": {
             "outlinewidth": 0,
             "ticks": ""
            },
            "colorscale": [
             [
              0,
              "#0d0887"
             ],
             [
              0.1111111111111111,
              "#46039f"
             ],
             [
              0.2222222222222222,
              "#7201a8"
             ],
             [
              0.3333333333333333,
              "#9c179e"
             ],
             [
              0.4444444444444444,
              "#bd3786"
             ],
             [
              0.5555555555555556,
              "#d8576b"
             ],
             [
              0.6666666666666666,
              "#ed7953"
             ],
             [
              0.7777777777777778,
              "#fb9f3a"
             ],
             [
              0.8888888888888888,
              "#fdca26"
             ],
             [
              1,
              "#f0f921"
             ]
            ],
            "type": "surface"
           }
          ],
          "table": [
           {
            "cells": {
             "fill": {
              "color": "#EBF0F8"
             },
             "line": {
              "color": "white"
             }
            },
            "header": {
             "fill": {
              "color": "#C8D4E3"
             },
             "line": {
              "color": "white"
             }
            },
            "type": "table"
           }
          ]
         },
         "layout": {
          "annotationdefaults": {
           "arrowcolor": "#2a3f5f",
           "arrowhead": 0,
           "arrowwidth": 1
          },
          "autotypenumbers": "strict",
          "coloraxis": {
           "colorbar": {
            "outlinewidth": 0,
            "ticks": ""
           }
          },
          "colorscale": {
           "diverging": [
            [
             0,
             "#8e0152"
            ],
            [
             0.1,
             "#c51b7d"
            ],
            [
             0.2,
             "#de77ae"
            ],
            [
             0.3,
             "#f1b6da"
            ],
            [
             0.4,
             "#fde0ef"
            ],
            [
             0.5,
             "#f7f7f7"
            ],
            [
             0.6,
             "#e6f5d0"
            ],
            [
             0.7,
             "#b8e186"
            ],
            [
             0.8,
             "#7fbc41"
            ],
            [
             0.9,
             "#4d9221"
            ],
            [
             1,
             "#276419"
            ]
           ],
           "sequential": [
            [
             0,
             "#0d0887"
            ],
            [
             0.1111111111111111,
             "#46039f"
            ],
            [
             0.2222222222222222,
             "#7201a8"
            ],
            [
             0.3333333333333333,
             "#9c179e"
            ],
            [
             0.4444444444444444,
             "#bd3786"
            ],
            [
             0.5555555555555556,
             "#d8576b"
            ],
            [
             0.6666666666666666,
             "#ed7953"
            ],
            [
             0.7777777777777778,
             "#fb9f3a"
            ],
            [
             0.8888888888888888,
             "#fdca26"
            ],
            [
             1,
             "#f0f921"
            ]
           ],
           "sequentialminus": [
            [
             0,
             "#0d0887"
            ],
            [
             0.1111111111111111,
             "#46039f"
            ],
            [
             0.2222222222222222,
             "#7201a8"
            ],
            [
             0.3333333333333333,
             "#9c179e"
            ],
            [
             0.4444444444444444,
             "#bd3786"
            ],
            [
             0.5555555555555556,
             "#d8576b"
            ],
            [
             0.6666666666666666,
             "#ed7953"
            ],
            [
             0.7777777777777778,
             "#fb9f3a"
            ],
            [
             0.8888888888888888,
             "#fdca26"
            ],
            [
             1,
             "#f0f921"
            ]
           ]
          },
          "colorway": [
           "#636efa",
           "#EF553B",
           "#00cc96",
           "#ab63fa",
           "#FFA15A",
           "#19d3f3",
           "#FF6692",
           "#B6E880",
           "#FF97FF",
           "#FECB52"
          ],
          "font": {
           "color": "#2a3f5f"
          },
          "geo": {
           "bgcolor": "white",
           "lakecolor": "white",
           "landcolor": "#E5ECF6",
           "showlakes": true,
           "showland": true,
           "subunitcolor": "white"
          },
          "hoverlabel": {
           "align": "left"
          },
          "hovermode": "closest",
          "mapbox": {
           "style": "light"
          },
          "paper_bgcolor": "white",
          "plot_bgcolor": "#E5ECF6",
          "polar": {
           "angularaxis": {
            "gridcolor": "white",
            "linecolor": "white",
            "ticks": ""
           },
           "bgcolor": "#E5ECF6",
           "radialaxis": {
            "gridcolor": "white",
            "linecolor": "white",
            "ticks": ""
           }
          },
          "scene": {
           "xaxis": {
            "backgroundcolor": "#E5ECF6",
            "gridcolor": "white",
            "gridwidth": 2,
            "linecolor": "white",
            "showbackground": true,
            "ticks": "",
            "zerolinecolor": "white"
           },
           "yaxis": {
            "backgroundcolor": "#E5ECF6",
            "gridcolor": "white",
            "gridwidth": 2,
            "linecolor": "white",
            "showbackground": true,
            "ticks": "",
            "zerolinecolor": "white"
           },
           "zaxis": {
            "backgroundcolor": "#E5ECF6",
            "gridcolor": "white",
            "gridwidth": 2,
            "linecolor": "white",
            "showbackground": true,
            "ticks": "",
            "zerolinecolor": "white"
           }
          },
          "shapedefaults": {
           "line": {
            "color": "#2a3f5f"
           }
          },
          "ternary": {
           "aaxis": {
            "gridcolor": "white",
            "linecolor": "white",
            "ticks": ""
           },
           "baxis": {
            "gridcolor": "white",
            "linecolor": "white",
            "ticks": ""
           },
           "bgcolor": "#E5ECF6",
           "caxis": {
            "gridcolor": "white",
            "linecolor": "white",
            "ticks": ""
           }
          },
          "title": {
           "x": 0.05
          },
          "xaxis": {
           "automargin": true,
           "gridcolor": "white",
           "linecolor": "white",
           "ticks": "",
           "title": {
            "standoff": 15
           },
           "zerolinecolor": "white",
           "zerolinewidth": 2
          },
          "yaxis": {
           "automargin": true,
           "gridcolor": "white",
           "linecolor": "white",
           "ticks": "",
           "title": {
            "standoff": 15
           },
           "zerolinecolor": "white",
           "zerolinewidth": 2
          }
         }
        },
        "title": {
         "text": "Posting Frequency by Hour and Sentiment"
        },
        "xaxis": {
         "anchor": "y",
         "domain": [
          0,
          1
         ],
         "title": {
          "text": "Hour of Day"
         }
        },
        "yaxis": {
         "anchor": "x",
         "domain": [
          0,
          1
         ],
         "title": {
          "text": "Post Count"
         }
        }
       }
      }
     },
     "metadata": {},
     "output_type": "display_data"
    }
   ],
   "source": [
    "# Posting Frequency by Hour\n",
    "fig4 = px.histogram(\n",
    "    df, x='hour', color='label', nbins=24, barmode='stack',\n",
    "    title=\"Posting Frequency by Hour and Sentiment\",\n",
    "    color_discrete_map={-1.0: \"red\", 0.0: \"gray\", 1.0: \"green\"}\n",
    ")\n",
    "fig4.update_layout(xaxis_title=\"Hour of Day\", yaxis_title=\"Post Count\")\n",
    "fig4.show()"
   ]
  },
  {
   "cell_type": "markdown",
   "metadata": {},
   "source": [
    "The fifth graph is a **bar chart** about **Average Polarity by Subreddit**.\n",
    "<br>\n",
    "This graph is used to find out: **Which subreddit is most optimistic or pessimistic? Are there communities that consistently lean one way?**\n"
   ]
  },
  {
   "cell_type": "code",
   "execution_count": null,
   "metadata": {},
   "outputs": [
    {
     "data": {
      "application/vnd.plotly.v1+json": {
       "config": {
        "plotlyServerURL": "https://plot.ly"
       },
       "data": [
        {
         "hovertemplate": "subreddit=%{x}<br>polarity=%{marker.color}<extra></extra>",
         "legendgroup": "",
         "marker": {
          "color": {
           "bdata": "ywp3Clx5oj/JUj9I/F6XP7i0NEvtBaw/gFhyDdjhqT8=",
           "dtype": "f8"
          },
          "coloraxis": "coloraxis",
          "pattern": {
           "shape": ""
          }
         },
         "name": "",
         "orientation": "v",
         "showlegend": false,
         "textposition": "auto",
         "type": "bar",
         "x": [
          "StockMarket",
          "stocks",
          "stockstobuytoday",
          "wallstreetbets"
         ],
         "xaxis": "x",
         "y": {
          "bdata": "ywp3Clx5oj/JUj9I/F6XP7i0NEvtBaw/gFhyDdjhqT8=",
          "dtype": "f8"
         },
         "yaxis": "y"
        }
       ],
       "layout": {
        "barmode": "relative",
        "coloraxis": {
         "colorbar": {
          "title": {
           "text": "polarity"
          }
         },
         "colorscale": [
          [
           0,
           "rgb(247,244,249)"
          ],
          [
           0.125,
           "rgb(231,225,239)"
          ],
          [
           0.25,
           "rgb(212,185,218)"
          ],
          [
           0.375,
           "rgb(201,148,199)"
          ],
          [
           0.5,
           "rgb(223,101,176)"
          ],
          [
           0.625,
           "rgb(231,41,138)"
          ],
          [
           0.75,
           "rgb(206,18,86)"
          ],
          [
           0.875,
           "rgb(152,0,67)"
          ],
          [
           1,
           "rgb(103,0,31)"
          ]
         ]
        },
        "legend": {
         "tracegroupgap": 0
        },
        "template": {
         "data": {
          "bar": [
           {
            "error_x": {
             "color": "#2a3f5f"
            },
            "error_y": {
             "color": "#2a3f5f"
            },
            "marker": {
             "line": {
              "color": "#E5ECF6",
              "width": 0.5
             },
             "pattern": {
              "fillmode": "overlay",
              "size": 10,
              "solidity": 0.2
             }
            },
            "type": "bar"
           }
          ],
          "barpolar": [
           {
            "marker": {
             "line": {
              "color": "#E5ECF6",
              "width": 0.5
             },
             "pattern": {
              "fillmode": "overlay",
              "size": 10,
              "solidity": 0.2
             }
            },
            "type": "barpolar"
           }
          ],
          "carpet": [
           {
            "aaxis": {
             "endlinecolor": "#2a3f5f",
             "gridcolor": "white",
             "linecolor": "white",
             "minorgridcolor": "white",
             "startlinecolor": "#2a3f5f"
            },
            "baxis": {
             "endlinecolor": "#2a3f5f",
             "gridcolor": "white",
             "linecolor": "white",
             "minorgridcolor": "white",
             "startlinecolor": "#2a3f5f"
            },
            "type": "carpet"
           }
          ],
          "choropleth": [
           {
            "colorbar": {
             "outlinewidth": 0,
             "ticks": ""
            },
            "type": "choropleth"
           }
          ],
          "contour": [
           {
            "colorbar": {
             "outlinewidth": 0,
             "ticks": ""
            },
            "colorscale": [
             [
              0,
              "#0d0887"
             ],
             [
              0.1111111111111111,
              "#46039f"
             ],
             [
              0.2222222222222222,
              "#7201a8"
             ],
             [
              0.3333333333333333,
              "#9c179e"
             ],
             [
              0.4444444444444444,
              "#bd3786"
             ],
             [
              0.5555555555555556,
              "#d8576b"
             ],
             [
              0.6666666666666666,
              "#ed7953"
             ],
             [
              0.7777777777777778,
              "#fb9f3a"
             ],
             [
              0.8888888888888888,
              "#fdca26"
             ],
             [
              1,
              "#f0f921"
             ]
            ],
            "type": "contour"
           }
          ],
          "contourcarpet": [
           {
            "colorbar": {
             "outlinewidth": 0,
             "ticks": ""
            },
            "type": "contourcarpet"
           }
          ],
          "heatmap": [
           {
            "colorbar": {
             "outlinewidth": 0,
             "ticks": ""
            },
            "colorscale": [
             [
              0,
              "#0d0887"
             ],
             [
              0.1111111111111111,
              "#46039f"
             ],
             [
              0.2222222222222222,
              "#7201a8"
             ],
             [
              0.3333333333333333,
              "#9c179e"
             ],
             [
              0.4444444444444444,
              "#bd3786"
             ],
             [
              0.5555555555555556,
              "#d8576b"
             ],
             [
              0.6666666666666666,
              "#ed7953"
             ],
             [
              0.7777777777777778,
              "#fb9f3a"
             ],
             [
              0.8888888888888888,
              "#fdca26"
             ],
             [
              1,
              "#f0f921"
             ]
            ],
            "type": "heatmap"
           }
          ],
          "histogram": [
           {
            "marker": {
             "pattern": {
              "fillmode": "overlay",
              "size": 10,
              "solidity": 0.2
             }
            },
            "type": "histogram"
           }
          ],
          "histogram2d": [
           {
            "colorbar": {
             "outlinewidth": 0,
             "ticks": ""
            },
            "colorscale": [
             [
              0,
              "#0d0887"
             ],
             [
              0.1111111111111111,
              "#46039f"
             ],
             [
              0.2222222222222222,
              "#7201a8"
             ],
             [
              0.3333333333333333,
              "#9c179e"
             ],
             [
              0.4444444444444444,
              "#bd3786"
             ],
             [
              0.5555555555555556,
              "#d8576b"
             ],
             [
              0.6666666666666666,
              "#ed7953"
             ],
             [
              0.7777777777777778,
              "#fb9f3a"
             ],
             [
              0.8888888888888888,
              "#fdca26"
             ],
             [
              1,
              "#f0f921"
             ]
            ],
            "type": "histogram2d"
           }
          ],
          "histogram2dcontour": [
           {
            "colorbar": {
             "outlinewidth": 0,
             "ticks": ""
            },
            "colorscale": [
             [
              0,
              "#0d0887"
             ],
             [
              0.1111111111111111,
              "#46039f"
             ],
             [
              0.2222222222222222,
              "#7201a8"
             ],
             [
              0.3333333333333333,
              "#9c179e"
             ],
             [
              0.4444444444444444,
              "#bd3786"
             ],
             [
              0.5555555555555556,
              "#d8576b"
             ],
             [
              0.6666666666666666,
              "#ed7953"
             ],
             [
              0.7777777777777778,
              "#fb9f3a"
             ],
             [
              0.8888888888888888,
              "#fdca26"
             ],
             [
              1,
              "#f0f921"
             ]
            ],
            "type": "histogram2dcontour"
           }
          ],
          "mesh3d": [
           {
            "colorbar": {
             "outlinewidth": 0,
             "ticks": ""
            },
            "type": "mesh3d"
           }
          ],
          "parcoords": [
           {
            "line": {
             "colorbar": {
              "outlinewidth": 0,
              "ticks": ""
             }
            },
            "type": "parcoords"
           }
          ],
          "pie": [
           {
            "automargin": true,
            "type": "pie"
           }
          ],
          "scatter": [
           {
            "fillpattern": {
             "fillmode": "overlay",
             "size": 10,
             "solidity": 0.2
            },
            "type": "scatter"
           }
          ],
          "scatter3d": [
           {
            "line": {
             "colorbar": {
              "outlinewidth": 0,
              "ticks": ""
             }
            },
            "marker": {
             "colorbar": {
              "outlinewidth": 0,
              "ticks": ""
             }
            },
            "type": "scatter3d"
           }
          ],
          "scattercarpet": [
           {
            "marker": {
             "colorbar": {
              "outlinewidth": 0,
              "ticks": ""
             }
            },
            "type": "scattercarpet"
           }
          ],
          "scattergeo": [
           {
            "marker": {
             "colorbar": {
              "outlinewidth": 0,
              "ticks": ""
             }
            },
            "type": "scattergeo"
           }
          ],
          "scattergl": [
           {
            "marker": {
             "colorbar": {
              "outlinewidth": 0,
              "ticks": ""
             }
            },
            "type": "scattergl"
           }
          ],
          "scattermap": [
           {
            "marker": {
             "colorbar": {
              "outlinewidth": 0,
              "ticks": ""
             }
            },
            "type": "scattermap"
           }
          ],
          "scattermapbox": [
           {
            "marker": {
             "colorbar": {
              "outlinewidth": 0,
              "ticks": ""
             }
            },
            "type": "scattermapbox"
           }
          ],
          "scatterpolar": [
           {
            "marker": {
             "colorbar": {
              "outlinewidth": 0,
              "ticks": ""
             }
            },
            "type": "scatterpolar"
           }
          ],
          "scatterpolargl": [
           {
            "marker": {
             "colorbar": {
              "outlinewidth": 0,
              "ticks": ""
             }
            },
            "type": "scatterpolargl"
           }
          ],
          "scatterternary": [
           {
            "marker": {
             "colorbar": {
              "outlinewidth": 0,
              "ticks": ""
             }
            },
            "type": "scatterternary"
           }
          ],
          "surface": [
           {
            "colorbar": {
             "outlinewidth": 0,
             "ticks": ""
            },
            "colorscale": [
             [
              0,
              "#0d0887"
             ],
             [
              0.1111111111111111,
              "#46039f"
             ],
             [
              0.2222222222222222,
              "#7201a8"
             ],
             [
              0.3333333333333333,
              "#9c179e"
             ],
             [
              0.4444444444444444,
              "#bd3786"
             ],
             [
              0.5555555555555556,
              "#d8576b"
             ],
             [
              0.6666666666666666,
              "#ed7953"
             ],
             [
              0.7777777777777778,
              "#fb9f3a"
             ],
             [
              0.8888888888888888,
              "#fdca26"
             ],
             [
              1,
              "#f0f921"
             ]
            ],
            "type": "surface"
           }
          ],
          "table": [
           {
            "cells": {
             "fill": {
              "color": "#EBF0F8"
             },
             "line": {
              "color": "white"
             }
            },
            "header": {
             "fill": {
              "color": "#C8D4E3"
             },
             "line": {
              "color": "white"
             }
            },
            "type": "table"
           }
          ]
         },
         "layout": {
          "annotationdefaults": {
           "arrowcolor": "#2a3f5f",
           "arrowhead": 0,
           "arrowwidth": 1
          },
          "autotypenumbers": "strict",
          "coloraxis": {
           "colorbar": {
            "outlinewidth": 0,
            "ticks": ""
           }
          },
          "colorscale": {
           "diverging": [
            [
             0,
             "#8e0152"
            ],
            [
             0.1,
             "#c51b7d"
            ],
            [
             0.2,
             "#de77ae"
            ],
            [
             0.3,
             "#f1b6da"
            ],
            [
             0.4,
             "#fde0ef"
            ],
            [
             0.5,
             "#f7f7f7"
            ],
            [
             0.6,
             "#e6f5d0"
            ],
            [
             0.7,
             "#b8e186"
            ],
            [
             0.8,
             "#7fbc41"
            ],
            [
             0.9,
             "#4d9221"
            ],
            [
             1,
             "#276419"
            ]
           ],
           "sequential": [
            [
             0,
             "#0d0887"
            ],
            [
             0.1111111111111111,
             "#46039f"
            ],
            [
             0.2222222222222222,
             "#7201a8"
            ],
            [
             0.3333333333333333,
             "#9c179e"
            ],
            [
             0.4444444444444444,
             "#bd3786"
            ],
            [
             0.5555555555555556,
             "#d8576b"
            ],
            [
             0.6666666666666666,
             "#ed7953"
            ],
            [
             0.7777777777777778,
             "#fb9f3a"
            ],
            [
             0.8888888888888888,
             "#fdca26"
            ],
            [
             1,
             "#f0f921"
            ]
           ],
           "sequentialminus": [
            [
             0,
             "#0d0887"
            ],
            [
             0.1111111111111111,
             "#46039f"
            ],
            [
             0.2222222222222222,
             "#7201a8"
            ],
            [
             0.3333333333333333,
             "#9c179e"
            ],
            [
             0.4444444444444444,
             "#bd3786"
            ],
            [
             0.5555555555555556,
             "#d8576b"
            ],
            [
             0.6666666666666666,
             "#ed7953"
            ],
            [
             0.7777777777777778,
             "#fb9f3a"
            ],
            [
             0.8888888888888888,
             "#fdca26"
            ],
            [
             1,
             "#f0f921"
            ]
           ]
          },
          "colorway": [
           "#636efa",
           "#EF553B",
           "#00cc96",
           "#ab63fa",
           "#FFA15A",
           "#19d3f3",
           "#FF6692",
           "#B6E880",
           "#FF97FF",
           "#FECB52"
          ],
          "font": {
           "color": "#2a3f5f"
          },
          "geo": {
           "bgcolor": "white",
           "lakecolor": "white",
           "landcolor": "#E5ECF6",
           "showlakes": true,
           "showland": true,
           "subunitcolor": "white"
          },
          "hoverlabel": {
           "align": "left"
          },
          "hovermode": "closest",
          "mapbox": {
           "style": "light"
          },
          "paper_bgcolor": "white",
          "plot_bgcolor": "#E5ECF6",
          "polar": {
           "angularaxis": {
            "gridcolor": "white",
            "linecolor": "white",
            "ticks": ""
           },
           "bgcolor": "#E5ECF6",
           "radialaxis": {
            "gridcolor": "white",
            "linecolor": "white",
            "ticks": ""
           }
          },
          "scene": {
           "xaxis": {
            "backgroundcolor": "#E5ECF6",
            "gridcolor": "white",
            "gridwidth": 2,
            "linecolor": "white",
            "showbackground": true,
            "ticks": "",
            "zerolinecolor": "white"
           },
           "yaxis": {
            "backgroundcolor": "#E5ECF6",
            "gridcolor": "white",
            "gridwidth": 2,
            "linecolor": "white",
            "showbackground": true,
            "ticks": "",
            "zerolinecolor": "white"
           },
           "zaxis": {
            "backgroundcolor": "#E5ECF6",
            "gridcolor": "white",
            "gridwidth": 2,
            "linecolor": "white",
            "showbackground": true,
            "ticks": "",
            "zerolinecolor": "white"
           }
          },
          "shapedefaults": {
           "line": {
            "color": "#2a3f5f"
           }
          },
          "ternary": {
           "aaxis": {
            "gridcolor": "white",
            "linecolor": "white",
            "ticks": ""
           },
           "baxis": {
            "gridcolor": "white",
            "linecolor": "white",
            "ticks": ""
           },
           "bgcolor": "#E5ECF6",
           "caxis": {
            "gridcolor": "white",
            "linecolor": "white",
            "ticks": ""
           }
          },
          "title": {
           "x": 0.05
          },
          "xaxis": {
           "automargin": true,
           "gridcolor": "white",
           "linecolor": "white",
           "ticks": "",
           "title": {
            "standoff": 15
           },
           "zerolinecolor": "white",
           "zerolinewidth": 2
          },
          "yaxis": {
           "automargin": true,
           "gridcolor": "white",
           "linecolor": "white",
           "ticks": "",
           "title": {
            "standoff": 15
           },
           "zerolinecolor": "white",
           "zerolinewidth": 2
          }
         }
        },
        "title": {
         "text": "Average Polarity by Subreddit"
        },
        "xaxis": {
         "anchor": "y",
         "domain": [
          0,
          1
         ],
         "title": {
          "text": "Subreddit"
         }
        },
        "yaxis": {
         "anchor": "x",
         "domain": [
          0,
          1
         ],
         "title": {
          "text": "Average Polarity"
         }
        }
       }
      }
     },
     "metadata": {},
     "output_type": "display_data"
    }
   ],
   "source": [
    "# Sentiment by Subreddit (mean polarity)\n",
    "subreddit_summary = df.groupby('subreddit', as_index=False)['polarity'].mean()\n",
    "fig5 = px.bar(\n",
    "    subreddit_summary, x='subreddit', y='polarity',\n",
    "    color='polarity', color_continuous_scale='PuRd',\n",
    "    title=\"Average Polarity by Subreddit\"\n",
    ")\n",
    "fig5.update_layout(xaxis_title=\"Subreddit\", yaxis_title=\"Average Polarity\")\n",
    "fig5.show()"
   ]
  },
  {
   "cell_type": "markdown",
   "metadata": {},
   "source": [
    "The sixth graph is a **heatmap** of key features which can examine how numerical features (such as subjectivity, polarity, upvotes) relate to each other.\n",
    "<br>\n",
    "This graph is used to find out: **Which features are strongly correlated with each other? Do certain features have a significant impact on others?**\n"
   ]
  },
  {
   "cell_type": "code",
   "execution_count": null,
   "metadata": {},
   "outputs": [
    {
     "data": {
      "image/png": "[encoded data removed]",
      "text/plain": [
       "<Figure size 800x600 with 2 Axes>"
      ]
     },
     "metadata": {},
     "output_type": "display_data"
    }
   ],
   "source": [
    "plt.figure(figsize=(8,6))\n",
    "corr = df[['subjectivity', 'polarity', 'upvotes', 'text_length', 'label']].corr()\n",
    "sns.heatmap(corr, annot=True, cmap='PuRd')\n",
    "plt.title(\"Key Features Correlation Heatmap\")\n",
    "plt.show()"
   ]
  },
  {
   "cell_type": "markdown",
   "metadata": {},
   "source": [
    "---"
   ]
  },
  {
   "cell_type": "markdown",
   "metadata": {},
   "source": [
    "# Phase 2"
   ]
  },
  {
   "cell_type": "code",
   "execution_count": null,
   "metadata": {},
   "outputs": [],
   "source": [
    "### Begin Assignment Here"
   ]
  }
 ],
 "metadata": {
  "kernelspec": {
   "display_name": "DM2025-Lab1-Exercise",
   "language": "python",
   "name": "python3"
  },
  "language_info": {
   "codemirror_mode": {
    "name": "ipython",
    "version": 3
   },
   "file_extension": ".py",
   "mimetype": "text/x-python",
   "name": "python",
   "nbconvert_exporter": "python",
   "pygments_lexer": "ipython3",
   "version": "3.11.0"
  }
 },
 "nbformat": 4,
 "nbformat_minor": 4
}
